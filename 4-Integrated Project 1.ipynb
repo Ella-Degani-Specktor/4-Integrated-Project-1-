{
 "cells": [
  {
   "cell_type": "markdown",
   "metadata": {},
   "source": [
    "# Project description"
   ]
  },
  {
   "cell_type": "markdown",
   "metadata": {},
   "source": [
    "We work for the online store Ice, which sells video games all over the world. User and expert reviews, genres, platforms (e.g. Xbox or PlayStation), and historical data on game sales are available from open sources.\n",
    "\n",
    "We need to identify patterns that determine whether a game succeeds or not. This will allow us to spot potential big winners and plan advertising campaigns."
   ]
  },
  {
   "cell_type": "markdown",
   "metadata": {},
   "source": [
    "# Data description"
   ]
  },
  {
   "cell_type": "markdown",
   "metadata": {},
   "source": [
    "In this dataset, the Entertainment Software Rating Board (ESRB) evaluates a game's content and assigns an age rating such as Teen or Mature.\n",
    "\n",
    "—Name\n",
    "\n",
    "—Platform\n",
    "\n",
    "—Year_of_Release\n",
    "\n",
    "—Genre\n",
    "\n",
    "—NA_sales (North American sales in USD million)\n",
    "\n",
    "—EU_sales (sales in Europe in USD million)\n",
    "\n",
    "—JP_sales (sales in Japan in USD million)\n",
    "\n",
    "—Other_sales (sales in other countries in USD million)\n",
    "\n",
    "—Critic_Score (maximum of 100)\n",
    "\n",
    "—User_Score (maximum of 10)\n",
    "\n",
    "—Rating (ESRB)\n",
    "\n",
    "Data for 2016 may be incomplete."
   ]
  },
  {
   "cell_type": "markdown",
   "metadata": {},
   "source": [
    "# Library imports"
   ]
  },
  {
   "cell_type": "code",
   "execution_count": 1,
   "metadata": {},
   "outputs": [],
   "source": [
    "#Libraries and project environment setup:\n",
    "\n",
    "##Pandas and numpy for data preprocessing and manipulation\n",
    "import pandas as pd\n",
    "import numpy as np\n",
    "\n",
    "##Matplotlib for visualization\n",
    "import matplotlib.pyplot as plt\n",
    "\n",
    "##Remove warnings\n",
    "import sys\n",
    "import warnings\n",
    "if not sys.warnoptions:\n",
    "   warnings.simplefilter(\"ignore\");\n",
    "\n",
    "##Scipy for SDA\n",
    "from scipy import stats as st"
   ]
  },
  {
   "cell_type": "markdown",
   "metadata": {},
   "source": [
    "# CSV file read"
   ]
  },
  {
   "cell_type": "code",
   "execution_count": 3,
   "metadata": {},
   "outputs": [],
   "source": [
    "#We use try-except to handle unexpected errors\n",
    "try:\n",
    "    df=pd.read_csv('/datasets/games.csv')\n",
    "except:\n",
    "    df=pd.read_csv('https://code.s3.yandex.net/datasets/games.csv')"
   ]
  },
  {
   "cell_type": "markdown",
   "metadata": {},
   "source": [
    "# General information"
   ]
  },
  {
   "cell_type": "code",
   "execution_count": 3,
   "metadata": {},
   "outputs": [],
   "source": [
    "#First, in order to guarantee efficiency we immediately drop row-based duplicates\n",
    "df.drop_duplicates(inplace=True,keep='first')\n",
    "df.reset_index(drop=True, inplace=True)"
   ]
  },
  {
   "cell_type": "code",
   "execution_count": 4,
   "metadata": {},
   "outputs": [
    {
     "data": {
      "text/html": [
       "<div>\n",
       "<style scoped>\n",
       "    .dataframe tbody tr th:only-of-type {\n",
       "        vertical-align: middle;\n",
       "    }\n",
       "\n",
       "    .dataframe tbody tr th {\n",
       "        vertical-align: top;\n",
       "    }\n",
       "\n",
       "    .dataframe thead th {\n",
       "        text-align: right;\n",
       "    }\n",
       "</style>\n",
       "<table border=\"1\" class=\"dataframe\">\n",
       "  <thead>\n",
       "    <tr style=\"text-align: right;\">\n",
       "      <th></th>\n",
       "      <th>Name</th>\n",
       "      <th>Platform</th>\n",
       "      <th>Year_of_Release</th>\n",
       "      <th>Genre</th>\n",
       "      <th>NA_sales</th>\n",
       "      <th>EU_sales</th>\n",
       "      <th>JP_sales</th>\n",
       "      <th>Other_sales</th>\n",
       "      <th>Critic_Score</th>\n",
       "      <th>User_Score</th>\n",
       "      <th>Rating</th>\n",
       "    </tr>\n",
       "  </thead>\n",
       "  <tbody>\n",
       "    <tr>\n",
       "      <td>0</td>\n",
       "      <td>Wii Sports</td>\n",
       "      <td>Wii</td>\n",
       "      <td>2006.0</td>\n",
       "      <td>Sports</td>\n",
       "      <td>41.36</td>\n",
       "      <td>28.96</td>\n",
       "      <td>3.77</td>\n",
       "      <td>8.45</td>\n",
       "      <td>76.0</td>\n",
       "      <td>8</td>\n",
       "      <td>E</td>\n",
       "    </tr>\n",
       "    <tr>\n",
       "      <td>1</td>\n",
       "      <td>Super Mario Bros.</td>\n",
       "      <td>NES</td>\n",
       "      <td>1985.0</td>\n",
       "      <td>Platform</td>\n",
       "      <td>29.08</td>\n",
       "      <td>3.58</td>\n",
       "      <td>6.81</td>\n",
       "      <td>0.77</td>\n",
       "      <td>NaN</td>\n",
       "      <td>NaN</td>\n",
       "      <td>NaN</td>\n",
       "    </tr>\n",
       "    <tr>\n",
       "      <td>2</td>\n",
       "      <td>Mario Kart Wii</td>\n",
       "      <td>Wii</td>\n",
       "      <td>2008.0</td>\n",
       "      <td>Racing</td>\n",
       "      <td>15.68</td>\n",
       "      <td>12.76</td>\n",
       "      <td>3.79</td>\n",
       "      <td>3.29</td>\n",
       "      <td>82.0</td>\n",
       "      <td>8.3</td>\n",
       "      <td>E</td>\n",
       "    </tr>\n",
       "    <tr>\n",
       "      <td>3</td>\n",
       "      <td>Wii Sports Resort</td>\n",
       "      <td>Wii</td>\n",
       "      <td>2009.0</td>\n",
       "      <td>Sports</td>\n",
       "      <td>15.61</td>\n",
       "      <td>10.93</td>\n",
       "      <td>3.28</td>\n",
       "      <td>2.95</td>\n",
       "      <td>80.0</td>\n",
       "      <td>8</td>\n",
       "      <td>E</td>\n",
       "    </tr>\n",
       "    <tr>\n",
       "      <td>4</td>\n",
       "      <td>Pokemon Red/Pokemon Blue</td>\n",
       "      <td>GB</td>\n",
       "      <td>1996.0</td>\n",
       "      <td>Role-Playing</td>\n",
       "      <td>11.27</td>\n",
       "      <td>8.89</td>\n",
       "      <td>10.22</td>\n",
       "      <td>1.00</td>\n",
       "      <td>NaN</td>\n",
       "      <td>NaN</td>\n",
       "      <td>NaN</td>\n",
       "    </tr>\n",
       "  </tbody>\n",
       "</table>\n",
       "</div>"
      ],
      "text/plain": [
       "                       Name Platform  Year_of_Release         Genre  NA_sales  \\\n",
       "0                Wii Sports      Wii           2006.0        Sports     41.36   \n",
       "1         Super Mario Bros.      NES           1985.0      Platform     29.08   \n",
       "2            Mario Kart Wii      Wii           2008.0        Racing     15.68   \n",
       "3         Wii Sports Resort      Wii           2009.0        Sports     15.61   \n",
       "4  Pokemon Red/Pokemon Blue       GB           1996.0  Role-Playing     11.27   \n",
       "\n",
       "   EU_sales  JP_sales  Other_sales  Critic_Score User_Score Rating  \n",
       "0     28.96      3.77         8.45          76.0          8      E  \n",
       "1      3.58      6.81         0.77           NaN        NaN    NaN  \n",
       "2     12.76      3.79         3.29          82.0        8.3      E  \n",
       "3     10.93      3.28         2.95          80.0          8      E  \n",
       "4      8.89     10.22         1.00           NaN        NaN    NaN  "
      ]
     },
     "execution_count": 4,
     "metadata": {},
     "output_type": "execute_result"
    }
   ],
   "source": [
    "#Print the first five entries in the dataframe\n",
    "df.head()"
   ]
  },
  {
   "cell_type": "markdown",
   "metadata": {},
   "source": [
    "There are NaN values in Critic_score, User_score and Rating columns."
   ]
  },
  {
   "cell_type": "code",
   "execution_count": 5,
   "metadata": {},
   "outputs": [
    {
     "name": "stdout",
     "output_type": "stream",
     "text": [
      "<class 'pandas.core.frame.DataFrame'>\n",
      "RangeIndex: 16715 entries, 0 to 16714\n",
      "Data columns (total 11 columns):\n",
      "Name               16713 non-null object\n",
      "Platform           16715 non-null object\n",
      "Year_of_Release    16446 non-null float64\n",
      "Genre              16713 non-null object\n",
      "NA_sales           16715 non-null float64\n",
      "EU_sales           16715 non-null float64\n",
      "JP_sales           16715 non-null float64\n",
      "Other_sales        16715 non-null float64\n",
      "Critic_Score       8137 non-null float64\n",
      "User_Score         10014 non-null object\n",
      "Rating             9949 non-null object\n",
      "dtypes: float64(6), object(5)\n",
      "memory usage: 1.4+ MB\n"
     ]
    }
   ],
   "source": [
    "#General file examination\n",
    "df.info()"
   ]
  },
  {
   "cell_type": "markdown",
   "metadata": {},
   "source": [
    "- Results show column names are accurate to the project data description.\n",
    "- Dataset includes 16715 entries and 11 columns.\n",
    "- There are missing values in the Name, Year_of_Release, Genre, Critic_Score, User_Score and Rating columns.\n",
    "- Critic_score contains float type values we'll need to convert to integer.\n",
    "- User_score contains object type values we'll need to convert to float."
   ]
  },
  {
   "cell_type": "code",
   "execution_count": 6,
   "metadata": {},
   "outputs": [
    {
     "data": {
      "text/html": [
       "<div>\n",
       "<style scoped>\n",
       "    .dataframe tbody tr th:only-of-type {\n",
       "        vertical-align: middle;\n",
       "    }\n",
       "\n",
       "    .dataframe tbody tr th {\n",
       "        vertical-align: top;\n",
       "    }\n",
       "\n",
       "    .dataframe thead th {\n",
       "        text-align: right;\n",
       "    }\n",
       "</style>\n",
       "<table border=\"1\" class=\"dataframe\">\n",
       "  <thead>\n",
       "    <tr style=\"text-align: right;\">\n",
       "      <th></th>\n",
       "      <th>Name</th>\n",
       "      <th>Platform</th>\n",
       "      <th>Year_of_Release</th>\n",
       "      <th>Genre</th>\n",
       "      <th>NA_sales</th>\n",
       "      <th>EU_sales</th>\n",
       "      <th>JP_sales</th>\n",
       "      <th>Other_sales</th>\n",
       "      <th>Critic_Score</th>\n",
       "      <th>User_Score</th>\n",
       "      <th>Rating</th>\n",
       "    </tr>\n",
       "  </thead>\n",
       "  <tbody>\n",
       "    <tr>\n",
       "      <td>count</td>\n",
       "      <td>16713</td>\n",
       "      <td>16715</td>\n",
       "      <td>16446.000000</td>\n",
       "      <td>16713</td>\n",
       "      <td>16715.000000</td>\n",
       "      <td>16715.000000</td>\n",
       "      <td>16715.000000</td>\n",
       "      <td>16715.000000</td>\n",
       "      <td>8137.000000</td>\n",
       "      <td>10014</td>\n",
       "      <td>9949</td>\n",
       "    </tr>\n",
       "    <tr>\n",
       "      <td>unique</td>\n",
       "      <td>11559</td>\n",
       "      <td>31</td>\n",
       "      <td>NaN</td>\n",
       "      <td>12</td>\n",
       "      <td>NaN</td>\n",
       "      <td>NaN</td>\n",
       "      <td>NaN</td>\n",
       "      <td>NaN</td>\n",
       "      <td>NaN</td>\n",
       "      <td>96</td>\n",
       "      <td>8</td>\n",
       "    </tr>\n",
       "    <tr>\n",
       "      <td>top</td>\n",
       "      <td>Need for Speed: Most Wanted</td>\n",
       "      <td>PS2</td>\n",
       "      <td>NaN</td>\n",
       "      <td>Action</td>\n",
       "      <td>NaN</td>\n",
       "      <td>NaN</td>\n",
       "      <td>NaN</td>\n",
       "      <td>NaN</td>\n",
       "      <td>NaN</td>\n",
       "      <td>tbd</td>\n",
       "      <td>E</td>\n",
       "    </tr>\n",
       "    <tr>\n",
       "      <td>freq</td>\n",
       "      <td>12</td>\n",
       "      <td>2161</td>\n",
       "      <td>NaN</td>\n",
       "      <td>3369</td>\n",
       "      <td>NaN</td>\n",
       "      <td>NaN</td>\n",
       "      <td>NaN</td>\n",
       "      <td>NaN</td>\n",
       "      <td>NaN</td>\n",
       "      <td>2424</td>\n",
       "      <td>3990</td>\n",
       "    </tr>\n",
       "    <tr>\n",
       "      <td>mean</td>\n",
       "      <td>NaN</td>\n",
       "      <td>NaN</td>\n",
       "      <td>2006.484616</td>\n",
       "      <td>NaN</td>\n",
       "      <td>0.263377</td>\n",
       "      <td>0.145060</td>\n",
       "      <td>0.077617</td>\n",
       "      <td>0.047342</td>\n",
       "      <td>68.967679</td>\n",
       "      <td>NaN</td>\n",
       "      <td>NaN</td>\n",
       "    </tr>\n",
       "    <tr>\n",
       "      <td>std</td>\n",
       "      <td>NaN</td>\n",
       "      <td>NaN</td>\n",
       "      <td>5.877050</td>\n",
       "      <td>NaN</td>\n",
       "      <td>0.813604</td>\n",
       "      <td>0.503339</td>\n",
       "      <td>0.308853</td>\n",
       "      <td>0.186731</td>\n",
       "      <td>13.938165</td>\n",
       "      <td>NaN</td>\n",
       "      <td>NaN</td>\n",
       "    </tr>\n",
       "    <tr>\n",
       "      <td>min</td>\n",
       "      <td>NaN</td>\n",
       "      <td>NaN</td>\n",
       "      <td>1980.000000</td>\n",
       "      <td>NaN</td>\n",
       "      <td>0.000000</td>\n",
       "      <td>0.000000</td>\n",
       "      <td>0.000000</td>\n",
       "      <td>0.000000</td>\n",
       "      <td>13.000000</td>\n",
       "      <td>NaN</td>\n",
       "      <td>NaN</td>\n",
       "    </tr>\n",
       "    <tr>\n",
       "      <td>25%</td>\n",
       "      <td>NaN</td>\n",
       "      <td>NaN</td>\n",
       "      <td>2003.000000</td>\n",
       "      <td>NaN</td>\n",
       "      <td>0.000000</td>\n",
       "      <td>0.000000</td>\n",
       "      <td>0.000000</td>\n",
       "      <td>0.000000</td>\n",
       "      <td>60.000000</td>\n",
       "      <td>NaN</td>\n",
       "      <td>NaN</td>\n",
       "    </tr>\n",
       "    <tr>\n",
       "      <td>50%</td>\n",
       "      <td>NaN</td>\n",
       "      <td>NaN</td>\n",
       "      <td>2007.000000</td>\n",
       "      <td>NaN</td>\n",
       "      <td>0.080000</td>\n",
       "      <td>0.020000</td>\n",
       "      <td>0.000000</td>\n",
       "      <td>0.010000</td>\n",
       "      <td>71.000000</td>\n",
       "      <td>NaN</td>\n",
       "      <td>NaN</td>\n",
       "    </tr>\n",
       "    <tr>\n",
       "      <td>75%</td>\n",
       "      <td>NaN</td>\n",
       "      <td>NaN</td>\n",
       "      <td>2010.000000</td>\n",
       "      <td>NaN</td>\n",
       "      <td>0.240000</td>\n",
       "      <td>0.110000</td>\n",
       "      <td>0.040000</td>\n",
       "      <td>0.030000</td>\n",
       "      <td>79.000000</td>\n",
       "      <td>NaN</td>\n",
       "      <td>NaN</td>\n",
       "    </tr>\n",
       "    <tr>\n",
       "      <td>max</td>\n",
       "      <td>NaN</td>\n",
       "      <td>NaN</td>\n",
       "      <td>2016.000000</td>\n",
       "      <td>NaN</td>\n",
       "      <td>41.360000</td>\n",
       "      <td>28.960000</td>\n",
       "      <td>10.220000</td>\n",
       "      <td>10.570000</td>\n",
       "      <td>98.000000</td>\n",
       "      <td>NaN</td>\n",
       "      <td>NaN</td>\n",
       "    </tr>\n",
       "  </tbody>\n",
       "</table>\n",
       "</div>"
      ],
      "text/plain": [
       "                               Name Platform  Year_of_Release   Genre  \\\n",
       "count                         16713    16715     16446.000000   16713   \n",
       "unique                        11559       31              NaN      12   \n",
       "top     Need for Speed: Most Wanted      PS2              NaN  Action   \n",
       "freq                             12     2161              NaN    3369   \n",
       "mean                            NaN      NaN      2006.484616     NaN   \n",
       "std                             NaN      NaN         5.877050     NaN   \n",
       "min                             NaN      NaN      1980.000000     NaN   \n",
       "25%                             NaN      NaN      2003.000000     NaN   \n",
       "50%                             NaN      NaN      2007.000000     NaN   \n",
       "75%                             NaN      NaN      2010.000000     NaN   \n",
       "max                             NaN      NaN      2016.000000     NaN   \n",
       "\n",
       "            NA_sales      EU_sales      JP_sales   Other_sales  Critic_Score  \\\n",
       "count   16715.000000  16715.000000  16715.000000  16715.000000   8137.000000   \n",
       "unique           NaN           NaN           NaN           NaN           NaN   \n",
       "top              NaN           NaN           NaN           NaN           NaN   \n",
       "freq             NaN           NaN           NaN           NaN           NaN   \n",
       "mean        0.263377      0.145060      0.077617      0.047342     68.967679   \n",
       "std         0.813604      0.503339      0.308853      0.186731     13.938165   \n",
       "min         0.000000      0.000000      0.000000      0.000000     13.000000   \n",
       "25%         0.000000      0.000000      0.000000      0.000000     60.000000   \n",
       "50%         0.080000      0.020000      0.000000      0.010000     71.000000   \n",
       "75%         0.240000      0.110000      0.040000      0.030000     79.000000   \n",
       "max        41.360000     28.960000     10.220000     10.570000     98.000000   \n",
       "\n",
       "       User_Score Rating  \n",
       "count       10014   9949  \n",
       "unique         96      8  \n",
       "top           tbd      E  \n",
       "freq         2424   3990  \n",
       "mean          NaN    NaN  \n",
       "std           NaN    NaN  \n",
       "min           NaN    NaN  \n",
       "25%           NaN    NaN  \n",
       "50%           NaN    NaN  \n",
       "75%           NaN    NaN  \n",
       "max           NaN    NaN  "
      ]
     },
     "execution_count": 6,
     "metadata": {},
     "output_type": "execute_result"
    }
   ],
   "source": [
    "#Integrated display of the columns\n",
    "df.describe(include='all')"
   ]
  },
  {
   "cell_type": "markdown",
   "metadata": {},
   "source": [
    "- Year_of_Release min is 1980 and max 2016 (current year).\n",
    "\n",
    "- Average (mean) is 2006 and most (50%-medium) 2007, there isn't much of a difference between these values and the std is relatively low, therefore, we assume the distribution of this variable is close to normal.\n",
    "\n",
    "- NA_sales, EU_sales, JP_sales and Other_sales columns share a min of 0, which may be due to lack of sales. It seems they all have positively skewed distributions. All third quartiles are less than 1 million USD, max values are approx. 10-42.\n",
    "\n",
    "- Critic_Score min is 13 and max 98. The average is about 69, the medium value is 71 and std is reasonable (~14), therefore we assume the distribution is close to normal."
   ]
  },
  {
   "cell_type": "markdown",
   "metadata": {},
   "source": [
    "# Preprocessing"
   ]
  },
  {
   "cell_type": "markdown",
   "metadata": {},
   "source": [
    "## Column names"
   ]
  },
  {
   "cell_type": "code",
   "execution_count": 7,
   "metadata": {},
   "outputs": [
    {
     "data": {
      "text/plain": [
       "Index(['name', 'platform', 'year_of_release', 'genre', 'na_sales', 'eu_sales',\n",
       "       'jp_sales', 'other_sales', 'critic_score', 'user_score', 'rating'],\n",
       "      dtype='object')"
      ]
     },
     "execution_count": 7,
     "metadata": {},
     "output_type": "execute_result"
    }
   ],
   "source": [
    "#Replacing column names with their lowercase versions\n",
    "df.columns = df.columns.str.lower()\n",
    "df.columns"
   ]
  },
  {
   "cell_type": "markdown",
   "metadata": {},
   "source": [
    "## Missing values"
   ]
  },
  {
   "cell_type": "markdown",
   "metadata": {},
   "source": [
    "As we found above when calling the info() function, there are missing values in the name, year_of_release, genre, critic_Score, user_Score and rating columns. Now we get to deal with them."
   ]
  },
  {
   "cell_type": "code",
   "execution_count": 8,
   "metadata": {
    "scrolled": true
   },
   "outputs": [
    {
     "data": {
      "text/plain": [
       "name                0.01\n",
       "platform            0.00\n",
       "year_of_release     1.61\n",
       "genre               0.01\n",
       "na_sales            0.00\n",
       "eu_sales            0.00\n",
       "jp_sales            0.00\n",
       "other_sales         0.00\n",
       "critic_score       51.32\n",
       "user_score         40.09\n",
       "rating             40.48\n",
       "dtype: float64"
      ]
     },
     "execution_count": 8,
     "metadata": {},
     "output_type": "execute_result"
    }
   ],
   "source": [
    "#Before we start, we look at the percentage of missing values in all the columns\n",
    "df.isna().sum()*100/len(df)\n",
    "pd.DataFrame(round((df.isna().mean()*100),2)).style.background_gradient('coolwarm')\n",
    "round(df.isna().mean()*100,2)"
   ]
  },
  {
   "cell_type": "markdown",
   "metadata": {},
   "source": [
    "### Name and genre"
   ]
  },
  {
   "cell_type": "code",
   "execution_count": 9,
   "metadata": {},
   "outputs": [],
   "source": [
    "#A rule of thumb is that we don't drop more than 5%-10% of the data\n",
    "#Name and genre columns are missing 0.01%\n",
    "#Data may be missing due to human/technical error\n",
    "#Dropping both entries\n",
    "df = df.dropna(subset=['name','genre'], axis=0)\n",
    "df.reset_index(drop=True, inplace=True)"
   ]
  },
  {
   "cell_type": "markdown",
   "metadata": {},
   "source": [
    "###  Year_of_release"
   ]
  },
  {
   "cell_type": "code",
   "execution_count": 10,
   "metadata": {},
   "outputs": [],
   "source": [
    "#Year_of_release column is missing 1.61%\n",
    "#Data may be missing due to human/technical error\n",
    "#Now we fill the missing values with the median per platform and genre\n",
    "df['year_of_release'] = df.groupby(['platform','genre'])['year_of_release'].apply(lambda x: x.fillna(x.median()))"
   ]
  },
  {
   "cell_type": "code",
   "execution_count": 11,
   "metadata": {},
   "outputs": [],
   "source": [
    "#Changing float data type to integer \n",
    "df['year_of_release'] = np.floor(df['year_of_release']).astype(int)"
   ]
  },
  {
   "cell_type": "markdown",
   "metadata": {},
   "source": [
    "### Critic_Score"
   ]
  },
  {
   "cell_type": "code",
   "execution_count": 12,
   "metadata": {},
   "outputs": [],
   "source": [
    "#Critic_score column is missing 51.32%\n",
    "#Data may be missing due to human/technical error\n",
    "#Now we fill the missing values with the median per rating then name\n",
    "df['critic_score'] = (df['critic_score'].astype(float))"
   ]
  },
  {
   "cell_type": "markdown",
   "metadata": {},
   "source": [
    "### User_Score"
   ]
  },
  {
   "cell_type": "code",
   "execution_count": 13,
   "metadata": {},
   "outputs": [
    {
     "data": {
      "text/plain": [
       "0.5808778320767237"
      ]
     },
     "execution_count": 13,
     "metadata": {},
     "output_type": "execute_result"
    }
   ],
   "source": [
    "#Replacing TBD with NaN since the score is still technically missing\n",
    "df['user_score'] = df['user_score'].replace('tbd',np.nan)\n",
    "#Changing object data type to float \n",
    "df['user_score'] = df['user_score'].astype(float)\n",
    "#Print correlation between critic_score and user_score\n",
    "df['user_score'].corr(df['critic_score'])"
   ]
  },
  {
   "cell_type": "markdown",
   "metadata": {},
   "source": [
    "### Rating"
   ]
  },
  {
   "cell_type": "code",
   "execution_count": 15,
   "metadata": {},
   "outputs": [],
   "source": [
    "#Rating column is missing 40.48%\n",
    "#Data may be missing due to human/technical error\n",
    "#Now we fill the missing values based on name\n",
    "df['rating']= df['rating'].fillna('unknown')"
   ]
  },
  {
   "cell_type": "code",
   "execution_count": 16,
   "metadata": {
    "scrolled": true
   },
   "outputs": [
    {
     "data": {
      "text/plain": [
       "name                0.00\n",
       "platform            0.00\n",
       "year_of_release     0.00\n",
       "genre               0.00\n",
       "na_sales            0.00\n",
       "eu_sales            0.00\n",
       "jp_sales            0.00\n",
       "other_sales         0.00\n",
       "critic_score       51.31\n",
       "user_score         54.59\n",
       "rating              0.00\n",
       "dtype: float64"
      ]
     },
     "execution_count": 16,
     "metadata": {},
     "output_type": "execute_result"
    }
   ],
   "source": [
    "#Printing percentage of missing values in all the columns to ensure none are left\n",
    "df.isna().sum()*100/len(df)\n",
    "pd.DataFrame(round((df.isna().mean()*100),2)).style.background_gradient('coolwarm')\n",
    "round(df.isna().mean()*100,2)"
   ]
  },
  {
   "cell_type": "markdown",
   "metadata": {},
   "source": [
    "At the moment, we leave these missing values"
   ]
  },
  {
   "cell_type": "markdown",
   "metadata": {},
   "source": [
    "## Data types"
   ]
  },
  {
   "cell_type": "code",
   "execution_count": 17,
   "metadata": {},
   "outputs": [
    {
     "data": {
      "text/plain": [
       "name                object\n",
       "platform            object\n",
       "year_of_release      int64\n",
       "genre               object\n",
       "na_sales           float64\n",
       "eu_sales           float64\n",
       "jp_sales           float64\n",
       "other_sales        float64\n",
       "critic_score       float64\n",
       "user_score         float64\n",
       "rating              object\n",
       "dtype: object"
      ]
     },
     "execution_count": 17,
     "metadata": {},
     "output_type": "execute_result"
    }
   ],
   "source": [
    "#Print data types\n",
    "df.dtypes"
   ]
  },
  {
   "cell_type": "markdown",
   "metadata": {},
   "source": [
    "Data types have been changed earlier when dealing with the missing values and are now all in order."
   ]
  },
  {
   "cell_type": "markdown",
   "metadata": {},
   "source": [
    "## Total sales calculation column"
   ]
  },
  {
   "cell_type": "code",
   "execution_count": 18,
   "metadata": {},
   "outputs": [],
   "source": [
    "#Calculating the total sales (the sum of sales in all regions) for each game\n",
    "#Then, putting these values in a separate column\n",
    "df['total_sales'] = df['na_sales'] + df['eu_sales'] + df['jp_sales'] + df['other_sales']"
   ]
  },
  {
   "cell_type": "markdown",
   "metadata": {},
   "source": [
    "# EDA"
   ]
  },
  {
   "cell_type": "code",
   "execution_count": 19,
   "metadata": {},
   "outputs": [
    {
     "data": {
      "image/png": "[encoded data removed]",
      "text/plain": [
       "<Figure size 1080x360 with 1 Axes>"
      ]
     },
     "metadata": {
      "needs_background": "light"
     },
     "output_type": "display_data"
    }
   ],
   "source": [
    "#Plotting histogram of number of games released per year to find out if the data for every period is significant\n",
    "##df.hist('year_of_release')\n",
    "plt.figure(figsize=(15,5))\n",
    "df.groupby('year_of_release')['total_sales'].sum().plot(kind='bar')\n",
    "plt.title('Yearly games')\n",
    "plt.xlabel('year')\n",
    "plt.ylabel('games');"
   ]
  },
  {
   "cell_type": "markdown",
   "metadata": {},
   "source": [
    "Number of games is low and insignificant before ~1992, then grows and peaks in ~2009-2012 and afterwards drops by about a half. This could be due to a slow start as technology evolves, then a peak as the game market and demand rapidly grows and finally less new games are released and instead existing ones get updated."
   ]
  },
  {
   "cell_type": "markdown",
   "metadata": {},
   "source": [
    "#### <font color='Purple'>Student's commentary:</font> Good point! done.  <a class=\"tocSkip\"> </div>"
   ]
  },
  {
   "cell_type": "code",
   "execution_count": 20,
   "metadata": {},
   "outputs": [
    {
     "data": {
      "image/png": "[encoded data removed]",
      "text/plain": [
       "<Figure size 1080x360 with 1 Axes>"
      ]
     },
     "metadata": {
      "needs_background": "light"
     },
     "output_type": "display_data"
    }
   ],
   "source": [
    "#Plotting barplot of total sales per platform in USD millions to find the platforms with the greatest total sales\n",
    "plt.figure(figsize=(15,5))\n",
    "df.groupby('platform')['total_sales'].sum().sort_values(ascending=False).plot(kind='bar')\n",
    "plt.title('Platform sales (USD millions)')\n",
    "plt.ylabel('sales');"
   ]
  },
  {
   "cell_type": "markdown",
   "metadata": {},
   "source": [
    "'PS2','X360','PS3','Wii','DS','PS' are the 6 platforms with the greatest total sales."
   ]
  },
  {
   "cell_type": "code",
   "execution_count": 21,
   "metadata": {},
   "outputs": [
    {
     "data": {
      "image/png": "[encoded data removed]",
      "text/plain": [
       "<Figure size 1080x360 with 1 Axes>"
      ]
     },
     "metadata": {
      "needs_background": "light"
     },
     "output_type": "display_data"
    }
   ],
   "source": [
    "#Choosing the platforms with the greatest total sales and build a distribution based on data for each year\n",
    "#First we create a dataframe with the 6 top platforms seen in the plot above\n",
    "platform_year = df[df['platform'].isin(['PS2','X360','PS3','Wii','DS','PS'])].groupby([\"year_of_release\",\"platform\"]).size().unstack()\n",
    "\n",
    "#Now we plot\n",
    "platform_year.plot(by='platform',kind='bar', grid=True, figsize=(15,5), width=1)\n",
    "plt.title('Yearly platfrom sales (USD millions)')\n",
    "plt.xlabel('year')\n",
    "plt.ylabel('sales')\n",
    "plt.legend(loc='upper right');"
   ]
  },
  {
   "cell_type": "markdown",
   "metadata": {},
   "source": [
    "'PS2','DS','PS' are 3 platforms that used to be popular but now (2016) have zero sales. \n",
    "It generally takes a decade (10 years) for new platforms to appear and old ones to fade."
   ]
  },
  {
   "cell_type": "markdown",
   "metadata": {},
   "source": [
    "We now can determine what data period is necessary in order to build a prognosis for 2017. We'll take data from 5 years back, since the platform's popularity peak is in the middle of it's 10 year lifespan, this way we'll be able to find what platforms will lead in 2017."
   ]
  },
  {
   "cell_type": "code",
   "execution_count": 22,
   "metadata": {},
   "outputs": [],
   "source": [
    "#Creating dataframe of data from 2012 to 2016 in order to predict 2017\n",
    "df_5 = df[df['year_of_release'] >= 2012]"
   ]
  },
  {
   "cell_type": "code",
   "execution_count": 23,
   "metadata": {},
   "outputs": [
    {
     "data": {
      "image/png": "[encoded data removed]",
      "text/plain": [
       "<Figure size 1080x360 with 1 Axes>"
      ]
     },
     "metadata": {
      "needs_background": "light"
     },
     "output_type": "display_data"
    }
   ],
   "source": [
    "#Plotting barplot of total sales per platform in USD millions from the past 5 years\n",
    "plt.figure(figsize=(15,5))\n",
    "df_5.groupby('platform')['total_sales'].sum().sort_values(ascending=False).plot(kind='bar')\n",
    "plt.title('Platform sales (USD million)')\n",
    "plt.ylabel('sales');"
   ]
  },
  {
   "cell_type": "markdown",
   "metadata": {},
   "source": [
    "'PS4', 'PS3', 'X360', '3DS' and 'XOne' are the 5 platforms leading in sales."
   ]
  },
  {
   "cell_type": "code",
   "execution_count": 24,
   "metadata": {},
   "outputs": [
    {
     "data": {
      "image/png": "[encoded data removed]",
      "text/plain": [
       "<Figure size 1080x360 with 1 Axes>"
      ]
     },
     "metadata": {
      "needs_background": "light"
     },
     "output_type": "display_data"
    }
   ],
   "source": [
    "#First we create a dataframe with all the platforms seen in the plot above\n",
    "platform_year_5 = df_5[df_5['platform'].isin(['PS4','PS3','X360','3DS','XOne','WiiU','PC','PSV','Wii','DS','PSP'])].groupby([\"year_of_release\",\"platform\"]).size().unstack()\n",
    "\n",
    "#Now we plot to find which platforms are growing or shrinking in order to select several potentially profitable platforms\n",
    "platform_year_5.plot(by='platform',kind='bar', grid=True, figsize=(15,5), width=1, colormap='Paired')\n",
    "plt.title('Yearly platfrom sales (USD millions)')\n",
    "plt.xlabel('year')\n",
    "plt.ylabel('sales')\n",
    "plt.legend(loc='upper right');"
   ]
  },
  {
   "cell_type": "markdown",
   "metadata": {},
   "source": [
    "'PS3', 'X360', 'Wii', 'DS', 'PSP' and 'WiiU' are the 6 platforms shrinking ('3DS' and 'PSV' are also shrinking but not as significantly).\n",
    "\n",
    "'PS4' and 'XOne' are the 2 platforms growing and are part of the top 3 platforms leading in sales as shown in the previous plot ('PC' is also growing but not as significantly). Therefore, we can expect both these platforms to be profitable in 2017."
   ]
  },
  {
   "cell_type": "code",
   "execution_count": 25,
   "metadata": {},
   "outputs": [
    {
     "data": {
      "image/png": "[encoded data removed]",
      "text/plain": [
       "<Figure size 1080x360 with 1 Axes>"
      ]
     },
     "metadata": {
      "needs_background": "light"
     },
     "output_type": "display_data"
    }
   ],
   "source": [
    "#Building a boxplot for the global sales of all games, broken down by platform\n",
    "df_5.boxplot(by='platform', column='total_sales', figsize=(15,5),showfliers = False)\n",
    "plt.suptitle('')\n",
    "plt.title('Platfrom sales (USD millions)')\n",
    "plt.ylabel('sales');"
   ]
  },
  {
   "cell_type": "markdown",
   "metadata": {},
   "source": [
    "As found before, 'PS4', 'PS3', 'X360', '3DS' and 'XOne' are the 5 platforms leading in sales. There aren't any significant sales differences as seen in their box plots. Although we do clearly see a difference between the sales of these leading platforms and the rest."
   ]
  },
  {
   "cell_type": "code",
   "execution_count": 26,
   "metadata": {},
   "outputs": [
    {
     "data": {
      "image/png": "[encoded data removed]",
      "text/plain": [
       "<Figure size 1080x360 with 1 Axes>"
      ]
     },
     "metadata": {
      "needs_background": "light"
     },
     "output_type": "display_data"
    }
   ],
   "source": [
    "#Taking a closer look at our boxplot in order to see averages\n",
    "df_5.boxplot(by='platform', column='total_sales', figsize=(15,5),showfliers = False)\n",
    "plt.suptitle('')\n",
    "plt.ylim(0,1)\n",
    "plt.title('Platfrom sales (USD millions)')\n",
    "plt.ylabel('sales');"
   ]
  },
  {
   "cell_type": "markdown",
   "metadata": {},
   "source": [
    "The distributions are positively skewed. We see that there are differences in average sales on various platforms.\n",
    "\n",
    "- 'X360' has the highest average of ~0.3. \n",
    "\n",
    "- 'PS4','PS3','3DS','XOne','WiiU' and 'Wii', all have the average of around ~0.2.\n",
    "\n",
    "- 'PC','PSV','DS' and 'PSP' all have the average of around ~0.1 or less."
   ]
  },
  {
   "cell_type": "code",
   "execution_count": 27,
   "metadata": {},
   "outputs": [
    {
     "data": {
      "image/png": "[encoded data removed]",
      "text/plain": [
       "<Figure size 1080x360 with 1 Axes>"
      ]
     },
     "metadata": {
      "needs_background": "light"
     },
     "output_type": "display_data"
    }
   ],
   "source": [
    "#Taking a look at user and professional reviews affect on sales for the popular platform with the most sales (PS4)\n",
    "#Creating a dataframe for 'PS4'\n",
    "ps4 = df_5[df_5['platform']=='PS4']\n",
    "\n",
    "#Building a scatter plot\n",
    "ax1 = ps4.plot(kind='scatter', x='user_score', y='total_sales', color='r', figsize=(15,5), alpha=(0.3))    \n",
    "ax2 = ps4.plot(kind='scatter', x='critic_score', y='total_sales', color='g', alpha=(0.3), grid=True, ax=ax1)    \n",
    "plt.xlabel('scores')\n",
    "plt.ylabel('sales')\n",
    "ax1.legend('UC');"
   ]
  },
  {
   "cell_type": "code",
   "execution_count": 28,
   "metadata": {},
   "outputs": [
    {
     "name": "stdout",
     "output_type": "stream",
     "text": [
      "Correlation between user reviews and sales: -0.03\n",
      "Correlation between professional reviews and sales: 0.41\n"
     ]
    }
   ],
   "source": [
    "#Calculating the correlation between reviews and sales\n",
    "print('Correlation between user reviews and sales: {:.2f}'.format(ps4['total_sales'].corr(ps4['user_score'])))\n",
    "print('Correlation between professional reviews and sales: {:.2f}'.format(ps4['total_sales'].corr(ps4['critic_score'])))"
   ]
  },
  {
   "cell_type": "markdown",
   "metadata": {},
   "source": [
    "We clearly see in the scatterplot above that the better the review (higher the score), the better and higher the sales, which makes perfect sense.\n",
    "\n",
    "- Critic_Score (maximum of 100)\n",
    "Correlation between professional reviews and sales: 0.39, meaning there is almost a moderate positive correlation.\n",
    "\n",
    "- User_Score (maximum of 10)\n",
    "Correlation between user reviews and sales: -0.03, meaning there is almost no correlation whatsoever.\n",
    "\n",
    "\n",
    "The correlation between professional reviews and sales is higher than that of user reviews, that could be due to customers only taking the trusted critics' reviews into consideration when purchasing a game or just being more exposed those over the user ones."
   ]
  },
  {
   "cell_type": "code",
   "execution_count": 29,
   "metadata": {},
   "outputs": [
    {
     "data": {
      "image/png": "[encoded data removed]",
      "text/plain": [
       "<Figure size 1080x360 with 1 Axes>"
      ]
     },
     "metadata": {
      "needs_background": "light"
     },
     "output_type": "display_data"
    }
   ],
   "source": [
    "#We pick the top 5 platforms leading in sales in order to properly compare game sales and create a dataframe\n",
    "platform_games=df_5[df_5['platform'].isin(['PS4', 'PS3', 'X360', '3DS', 'XOne'])]\n",
    "\n",
    "#Creating a pivot table and plotting game sales per platform\n",
    "(platform_games.pivot_table(index=['name','platform'], values='total_sales', aggfunc='sum').sort_values(by='total_sales', ascending=False).unstack(1).dropna()[0:10].plot(kind='bar', figsize=(15,5)))\n",
    "plt.title('Platform game sales (USD millions)')\n",
    "plt.xlabel('game')\n",
    "plt.xticks(rotation=45)\n",
    "plt.ylabel('sales');"
   ]
  },
  {
   "cell_type": "markdown",
   "metadata": {},
   "source": [
    "Most games seem to have relatively similar sales per platform. Both FIFA 14 and FIFA 15 each have a platform that sells more than the rest (FIFA 14-PS3 and FIFA 15-PS4)."
   ]
  },
  {
   "cell_type": "code",
   "execution_count": 30,
   "metadata": {},
   "outputs": [
    {
     "data": {
      "image/png": "[encoded data removed]",
      "text/plain": [
       "<Figure size 432x288 with 1 Axes>"
      ]
     },
     "metadata": {
      "needs_background": "light"
     },
     "output_type": "display_data"
    }
   ],
   "source": [
    "#Take a look at the general distribution of games by genre by plotting\n",
    "df_5.groupby('genre')['total_sales'].sum().sort_values(ascending=False).plot(kind='bar')\n",
    "plt.title('Genre sales (USD millions)')\n",
    "plt.xlabel('genre')\n",
    "plt.xticks(rotation=45)\n",
    "plt.ylabel('sales');"
   ]
  },
  {
   "cell_type": "markdown",
   "metadata": {},
   "source": [
    "Action is clearly the most popular game genre with the highest revenue, followed by Shooter, Role-Playing and Sports.\n",
    "\n",
    "Generally, active, dramatic and thrilling genres are those with high sales, maybe since they excite and give a break from reality. Relaxing, quiet and cognitive genres tend to be those with low sales, since they are less exhilarating and therefore, less addicting and even boring to some."
   ]
  },
  {
   "cell_type": "code",
   "execution_count": 31,
   "metadata": {
    "scrolled": true
   },
   "outputs": [
    {
     "data": {
      "text/html": [
       "<div>\n",
       "<style scoped>\n",
       "    .dataframe tbody tr th:only-of-type {\n",
       "        vertical-align: middle;\n",
       "    }\n",
       "\n",
       "    .dataframe tbody tr th {\n",
       "        vertical-align: top;\n",
       "    }\n",
       "\n",
       "    .dataframe thead tr th {\n",
       "        text-align: left;\n",
       "    }\n",
       "\n",
       "    .dataframe thead tr:last-of-type th {\n",
       "        text-align: right;\n",
       "    }\n",
       "</style>\n",
       "<table border=\"1\" class=\"dataframe\">\n",
       "  <thead>\n",
       "    <tr>\n",
       "      <th></th>\n",
       "      <th>median</th>\n",
       "      <th>mean</th>\n",
       "    </tr>\n",
       "    <tr>\n",
       "      <th></th>\n",
       "      <th>total_sales</th>\n",
       "      <th>total_sales</th>\n",
       "    </tr>\n",
       "    <tr>\n",
       "      <th>genre</th>\n",
       "      <th></th>\n",
       "      <th></th>\n",
       "    </tr>\n",
       "  </thead>\n",
       "  <tbody>\n",
       "    <tr>\n",
       "      <td>Action</td>\n",
       "      <td>0.120</td>\n",
       "      <td>0.427829</td>\n",
       "    </tr>\n",
       "    <tr>\n",
       "      <td>Adventure</td>\n",
       "      <td>0.030</td>\n",
       "      <td>0.096885</td>\n",
       "    </tr>\n",
       "    <tr>\n",
       "      <td>Fighting</td>\n",
       "      <td>0.135</td>\n",
       "      <td>0.405727</td>\n",
       "    </tr>\n",
       "    <tr>\n",
       "      <td>Misc</td>\n",
       "      <td>0.120</td>\n",
       "      <td>0.442917</td>\n",
       "    </tr>\n",
       "    <tr>\n",
       "      <td>Platform</td>\n",
       "      <td>0.210</td>\n",
       "      <td>0.717647</td>\n",
       "    </tr>\n",
       "    <tr>\n",
       "      <td>Puzzle</td>\n",
       "      <td>0.045</td>\n",
       "      <td>0.174643</td>\n",
       "    </tr>\n",
       "    <tr>\n",
       "      <td>Racing</td>\n",
       "      <td>0.140</td>\n",
       "      <td>0.465217</td>\n",
       "    </tr>\n",
       "    <tr>\n",
       "      <td>Role-Playing</td>\n",
       "      <td>0.140</td>\n",
       "      <td>0.516444</td>\n",
       "    </tr>\n",
       "    <tr>\n",
       "      <td>Shooter</td>\n",
       "      <td>0.440</td>\n",
       "      <td>1.296723</td>\n",
       "    </tr>\n",
       "    <tr>\n",
       "      <td>Simulation</td>\n",
       "      <td>0.120</td>\n",
       "      <td>0.434268</td>\n",
       "    </tr>\n",
       "    <tr>\n",
       "      <td>Sports</td>\n",
       "      <td>0.240</td>\n",
       "      <td>0.675634</td>\n",
       "    </tr>\n",
       "    <tr>\n",
       "      <td>Strategy</td>\n",
       "      <td>0.080</td>\n",
       "      <td>0.187887</td>\n",
       "    </tr>\n",
       "  </tbody>\n",
       "</table>\n",
       "</div>"
      ],
      "text/plain": [
       "                  median        mean\n",
       "             total_sales total_sales\n",
       "genre                               \n",
       "Action             0.120    0.427829\n",
       "Adventure          0.030    0.096885\n",
       "Fighting           0.135    0.405727\n",
       "Misc               0.120    0.442917\n",
       "Platform           0.210    0.717647\n",
       "Puzzle             0.045    0.174643\n",
       "Racing             0.140    0.465217\n",
       "Role-Playing       0.140    0.516444\n",
       "Shooter            0.440    1.296723\n",
       "Simulation         0.120    0.434268\n",
       "Sports             0.240    0.675634\n",
       "Strategy           0.080    0.187887"
      ]
     },
     "execution_count": 31,
     "metadata": {},
     "output_type": "execute_result"
    }
   ],
   "source": [
    "df_5.pivot_table(index='genre', values='total_sales', aggfunc=['median','mean'])"
   ]
  },
  {
   "cell_type": "markdown",
   "metadata": {},
   "source": [
    "Here we calculated the mean and median sales per genre, the leader has changed and is now the Shooter genre."
   ]
  },
  {
   "cell_type": "markdown",
   "metadata": {},
   "source": [
    "# Regions' user profiles"
   ]
  },
  {
   "cell_type": "code",
   "execution_count": 32,
   "metadata": {},
   "outputs": [
    {
     "data": {
      "image/png": "[encoded data removed]",
      "text/plain": [
       "<Figure size 216x216 with 1 Axes>"
      ]
     },
     "metadata": {},
     "output_type": "display_data"
    },
    {
     "data": {
      "image/png": "[encoded data removed]",
      "text/plain": [
       "<Figure size 216x216 with 1 Axes>"
      ]
     },
     "metadata": {},
     "output_type": "display_data"
    },
    {
     "data": {
      "image/png": "[encoded data removed]",
      "text/plain": [
       "<Figure size 216x216 with 1 Axes>"
      ]
     },
     "metadata": {},
     "output_type": "display_data"
    }
   ],
   "source": [
    "#Separating largest market shares from the rest when plotting the following pies \n",
    "explode=(0.1,0,0,0,0)\n",
    "\n",
    "#NA top 5 platforms pie\n",
    "na_platforms = df_5.groupby(['platform'])['na_sales'].sum().reset_index().sort_values(by='na_sales', ascending = False)\n",
    "na_top_platforms = na_platforms.head()\n",
    "na_top_platforms.set_index('platform').plot(figsize=(3,3), subplots=True, kind='pie', autopct='%1.1f%%', labels=na_top_platforms['platform'], explode=explode, legend=None, startangle=90);\n",
    "\n",
    "#EU top 5 platforms pie\n",
    "eu_platforms = df_5.groupby(['platform'])['eu_sales'].sum().reset_index().sort_values(by='eu_sales', ascending = False)\n",
    "eu_top_platforms = eu_platforms.head()\n",
    "eu_top_platforms.set_index('platform').plot(figsize=(3,3), subplots=True, kind='pie', autopct='%1.1f%%', labels=eu_top_platforms['platform'], explode=explode, legend=None, startangle=90);\n",
    "\n",
    "#JP top 5 platforms pie\n",
    "jp_platforms = df_5.groupby(['platform'])['jp_sales'].sum().reset_index().sort_values(by='jp_sales', ascending = False)\n",
    "jp_top_platforms = jp_platforms.head()\n",
    "jp_top_platforms.set_index('platform').plot(figsize=(3,3), subplots=True, kind='pie', autopct='%1.1f%%', labels=jp_top_platforms['platform'], explode=explode, legend=None, startangle=90);"
   ]
  },
  {
   "cell_type": "markdown",
   "metadata": {},
   "source": [
    "NA highest market share-X360 (27.9%), EU highest market share-PS4 (33.8%), JP highest market share-3DS (50.7%). Each region's highest market share is different. PS3, PS4 and X360 are in the top 3 in EU and NA yet not in JP. \n",
    "\n",
    "NA lowest market share-3DS (11.2%), EU lowest market share-3DS (10.3%), JP lowest market share-WiiU (7.5%). Each region's lowest market share is different. XOne and 3DS are the top 4th and 5th in EU and NA yet not in JP where 3DS is highest and XOne isn't even part of the top 5. "
   ]
  },
  {
   "cell_type": "code",
   "execution_count": 33,
   "metadata": {},
   "outputs": [
    {
     "data": {
      "image/png": "[encoded data removed]",
      "text/plain": [
       "<Figure size 216x216 with 1 Axes>"
      ]
     },
     "metadata": {},
     "output_type": "display_data"
    },
    {
     "data": {
      "image/png": "[encoded data removed]",
      "text/plain": [
       "<Figure size 216x216 with 1 Axes>"
      ]
     },
     "metadata": {},
     "output_type": "display_data"
    },
    {
     "data": {
      "image/png": "[encoded data removed]",
      "text/plain": [
       "<Figure size 216x216 with 1 Axes>"
      ]
     },
     "metadata": {},
     "output_type": "display_data"
    }
   ],
   "source": [
    "#NA top 5 genres pie\n",
    "na_genres = df_5.groupby(['genre'])['na_sales'].sum().reset_index().sort_values(by='na_sales', ascending = False)\n",
    "na_top_genres = na_genres.head()\n",
    "na_top_genres.set_index('genre').plot(figsize=(3,3), subplots=True, kind='pie', autopct='%1.1f%%', labels=na_top_genres['genre'], explode=explode, legend=None, startangle=90);\n",
    "\n",
    "#EU top 5 genres pie\n",
    "eu_genres = df_5.groupby(['genre'])['eu_sales'].sum().reset_index().sort_values(by='eu_sales', ascending = False)\n",
    "eu_top_genres = eu_genres.head()\n",
    "eu_top_genres.set_index('genre').plot(figsize=(3,3), subplots=True, kind='pie', autopct='%1.1f%%', labels=eu_top_genres['genre'], explode=explode, legend=None, startangle=90);\n",
    "\n",
    "#JP top 5 genres pie\n",
    "jp_genres = df_5.groupby(['genre'])['jp_sales'].sum().reset_index().sort_values(by='jp_sales', ascending = False)\n",
    "jp_top_genres = jp_genres.head()\n",
    "jp_top_genres.set_index('genre').plot(figsize=(3,3), subplots=True, kind='pie', autopct='%1.1f%%', labels=jp_top_genres['genre'], explode=explode, legend=None, startangle=90);"
   ]
  },
  {
   "cell_type": "markdown",
   "metadata": {},
   "source": [
    "NA top genre-Action (35.1%), EU top genre-Action (38.2%), JP top genre-Role-Playing (43.4%).\n",
    "\n",
    "Action is the top genre in EU and NA yet 2nd in JP.\n",
    "Shooter and Sports are the top 2nd and 3rd in EU and NA yet not in JP where they aren't even part of the top 5.\n",
    "NA and EU 4th genre is Role-Playing while being the top in JP.\n",
    "Each region's 5th genre is different."
   ]
  },
  {
   "cell_type": "code",
   "execution_count": 34,
   "metadata": {},
   "outputs": [
    {
     "data": {
      "text/plain": [
       "5"
      ]
     },
     "execution_count": 34,
     "metadata": {},
     "output_type": "execute_result"
    }
   ],
   "source": [
    "#Finding the value counts of the rating column in order to adjust explode if needed\n",
    "df_5['rating'].value_counts().count()"
   ]
  },
  {
   "cell_type": "code",
   "execution_count": 35,
   "metadata": {},
   "outputs": [
    {
     "data": {
      "image/png": "[encoded data removed]",
      "text/plain": [
       "<Figure size 216x216 with 1 Axes>"
      ]
     },
     "metadata": {},
     "output_type": "display_data"
    },
    {
     "data": {
      "image/png": "[encoded data removed]",
      "text/plain": [
       "<Figure size 216x216 with 1 Axes>"
      ]
     },
     "metadata": {},
     "output_type": "display_data"
    },
    {
     "data": {
      "image/png": "[encoded data removed]",
      "text/plain": [
       "<Figure size 216x216 with 1 Axes>"
      ]
     },
     "metadata": {},
     "output_type": "display_data"
    }
   ],
   "source": [
    "#NA ratings pie\n",
    "na_ratings = df_5.groupby(['rating'])['na_sales'].sum().reset_index().sort_values(by='na_sales', ascending = False)\n",
    "na_ratings.set_index('rating').plot(figsize=(3,3), subplots=True, kind='pie', autopct='%1.1f%%', labels=na_ratings['rating'], explode=explode, legend=None, startangle=90);\n",
    "\n",
    "#EU ratings pie\n",
    "eu_ratings = df_5.groupby(['rating'])['eu_sales'].sum().reset_index().sort_values(by='eu_sales', ascending = False)\n",
    "eu_ratings.set_index('rating').plot(figsize=(3,3), subplots=True, kind='pie', autopct='%1.1f%%', labels=eu_ratings['rating'], explode=explode, legend=None, startangle=90);\n",
    "\n",
    "#JP ratings pie\n",
    "jp_ratings = df_5.groupby(['rating'])['jp_sales'].sum().reset_index().sort_values(by='jp_sales', ascending = False)\n",
    "jp_ratings.set_index('rating').plot(figsize=(3,3), subplots=True, kind='pie', autopct='%1.1f%%', labels=jp_ratings['rating'], explode=explode, legend=None, startangle=90);"
   ]
  },
  {
   "cell_type": "markdown",
   "metadata": {},
   "source": [
    "ESRB ratings affect sales in individual regions, this is probably due to age distribution of gamers per region.\n",
    "\n",
    "NA most popular rating-M (39.1%), EU most popular rating-M (38.2%), JP most popular rating-unknown (56.5%).\n",
    "\n",
    "NA least popular rating-T (11.2%), EU least popular rating-T (10.5%), JP least popular rating-E10+ (4.2%). \n",
    "\n",
    "NA and EU share the same ratings popularity order of M E unknown E10+ T (ratings of each almost equal), while JP's order is unknown E T M E10+ (E and T almost equal).\n",
    "\n",
    "We find that there is a significant amount of unknown ratings in all regions. This could be due to errors in the dataset or missing ratings."
   ]
  },
  {
   "cell_type": "markdown",
   "metadata": {},
   "source": [
    "# SDA"
   ]
  },
  {
   "cell_type": "markdown",
   "metadata": {},
   "source": [
    "## Average user ratings of the Xbox One and PC platforms are the same"
   ]
  },
  {
   "cell_type": "markdown",
   "metadata": {},
   "source": [
    "Null Hypothesis H0: Average user ratings of the Xbox One and PC platforms are the same.\n",
    "\n",
    "Alternative Hypothesis H1: Average user ratings of the Xbox One and PC platforms aren't the same.\n",
    "\n",
    "The criterion we'll use to test the hypotheses is 5% significance level (alpha) as it is typical in behavioral science."
   ]
  },
  {
   "cell_type": "code",
   "execution_count": 36,
   "metadata": {},
   "outputs": [
    {
     "name": "stdout",
     "output_type": "stream",
     "text": [
      "p-value:  0.6269861118965969\n",
      "We can't reject the null hypothesis\n"
     ]
    }
   ],
   "source": [
    "#Testing hypotheses by running t-test\n",
    "results = st.ttest_ind(df_5[df_5['platform'] == 'XOne'].dropna()['user_score'], df_5[df_5['platform'] == 'PC'].dropna()['user_score'], equal_var=False)\n",
    "p_value = results.pvalue\n",
    "alpha = 0.05\n",
    "\n",
    "print('p-value: ', results.pvalue)\n",
    "\n",
    "if (results.pvalue < alpha):\n",
    "        print(\"We reject the null hypothesis\")\n",
    "else:\n",
    "        print(\"We can't reject the null hypothesis\")"
   ]
  },
  {
   "cell_type": "markdown",
   "metadata": {},
   "source": [
    "T-test results above show that based on the p_value, we can't reject the null hypothesis. Therefore, the average user ratings of the Xbox One and PC platforms are the same."
   ]
  },
  {
   "cell_type": "markdown",
   "metadata": {},
   "source": [
    "## Average user ratings for the Action and Sports genres are different"
   ]
  },
  {
   "cell_type": "markdown",
   "metadata": {},
   "source": [
    "Null Hypothesis H0: Average user ratings for the Action and Sports genres aren't different.\n",
    "\n",
    "Alternative Hypothesis H1: Average user ratings for the Action and Sports genres are different.\n",
    "\n",
    "The criterion we'll use to test the hypotheses is 5% significance level (alpha) as it is typical in behavioral science."
   ]
  },
  {
   "cell_type": "code",
   "execution_count": 37,
   "metadata": {},
   "outputs": [
    {
     "name": "stdout",
     "output_type": "stream",
     "text": [
      "p-value:  6.000451347280956e-14\n",
      "We reject the null hypothesis\n"
     ]
    }
   ],
   "source": [
    "#Again, we test hypotheses by running t-test\n",
    "results = st.ttest_ind(df_5[df_5['genre'] == 'Action'].dropna()['user_score'], df_5[df_5['genre'] == 'Sports'].dropna()['user_score'], equal_var=False)\n",
    "p_value = results.pvalue\n",
    "alpha = 0.05\n",
    "\n",
    "print('p-value: ', results.pvalue)\n",
    "\n",
    "if (results.pvalue < alpha):\n",
    "        print(\"We reject the null hypothesis\")\n",
    "else:\n",
    "        print(\"We can't reject the null hypothesis\")"
   ]
  },
  {
   "cell_type": "markdown",
   "metadata": {},
   "source": [
    "T-test results above show that based on the p_value, we reject the null hypothesis. Therefore, the average user ratings for the Action and Sports genres are different."
   ]
  },
  {
   "cell_type": "markdown",
   "metadata": {},
   "source": [
    "# General conclusion"
   ]
  },
  {
   "attachments": {
    "image.png": {
     "image/png": "[encoded data removed]"
    }
   },
   "cell_type": "markdown",
   "metadata": {},
   "source": [
    "We work for the online store Ice, which sells video games all over the world. User and expert reviews, genres, platforms (e.g. Xbox or PlayStation), and historical data on game sales are available from open sources.\n",
    "\n",
    "\n",
    "We need to identify patterns that determine whether a game succeeds or not. This will allow us to spot potential big winners and plan advertising campaigns.\n",
    "\n",
    "Available data goes back to 2016. For this project, we assume that it’s December 2016 and we’re planning a campaign for 2017. \n",
    "\n",
    "First, we followed data analysis methodology, preprocessing data, handling missing values, deleting duplicates, dropping insignificant missing data that is less than 5%. Next we performed EDA and SDA. Following that we analyzed the remaining valid data in accordance to the project requirements. \n",
    "\n",
    "Our final conclusion can be split per region, as detailed in table below. We assume this is due to cultural differences, where JP differs significantly from NA and EU. \n",
    "\n",
    "![image.png](attachment:image.png)\n",
    "\n",
    "In addition, we identified PS4 and XOne as growing platforms we predict will lead in 2017 sales."
   ]
  },
  {
   "cell_type": "code",
   "execution_count": null,
   "metadata": {},
   "outputs": [],
   "source": []
  }
 ],
 "metadata": {
  "ExecuteTimeLog": [
   {
    "duration": 121,
    "start_time": "2021-11-14T16:25:01.555Z"
   },
   {
    "duration": 1085,
    "start_time": "2021-11-14T16:26:38.800Z"
   },
   {
    "duration": 36,
    "start_time": "2021-11-14T16:27:19.997Z"
   },
   {
    "duration": 36,
    "start_time": "2021-11-14T16:28:50.228Z"
   },
   {
    "duration": 18,
    "start_time": "2021-11-14T16:28:50.991Z"
   },
   {
    "duration": 19,
    "start_time": "2021-11-14T16:28:51.360Z"
   },
   {
    "duration": 9,
    "start_time": "2021-11-14T16:28:51.731Z"
   },
   {
    "duration": 47,
    "start_time": "2021-11-14T16:28:52.399Z"
   },
   {
    "duration": 2,
    "start_time": "2021-11-14T16:32:11.610Z"
   },
   {
    "duration": 2,
    "start_time": "2021-11-14T16:32:55.969Z"
   },
   {
    "duration": 11,
    "start_time": "2021-11-14T16:35:41.600Z"
   },
   {
    "duration": 11,
    "start_time": "2021-11-14T17:45:10.536Z"
   },
   {
    "duration": 5,
    "start_time": "2021-11-14T17:45:17.540Z"
   },
   {
    "duration": 3,
    "start_time": "2021-11-14T17:45:42.232Z"
   },
   {
    "duration": 562,
    "start_time": "2021-11-14T17:51:17.642Z"
   },
   {
    "duration": 2826,
    "start_time": "2021-11-14T18:25:35.738Z"
   },
   {
    "duration": 2505,
    "start_time": "2021-11-14T18:25:49.485Z"
   },
   {
    "duration": 2748,
    "start_time": "2021-11-14T18:26:39.504Z"
   },
   {
    "duration": 2466,
    "start_time": "2021-11-14T18:27:29.053Z"
   },
   {
    "duration": 2590,
    "start_time": "2021-11-14T18:28:31.222Z"
   },
   {
    "duration": 2929,
    "start_time": "2021-11-14T18:28:40.298Z"
   },
   {
    "duration": 2713,
    "start_time": "2021-11-14T18:29:14.020Z"
   },
   {
    "duration": 2692,
    "start_time": "2021-11-14T18:33:55.977Z"
   },
   {
    "duration": 2675,
    "start_time": "2021-11-14T18:34:06.725Z"
   },
   {
    "duration": 134,
    "start_time": "2021-11-14T18:38:05.814Z"
   },
   {
    "duration": 125,
    "start_time": "2021-11-14T18:38:39.617Z"
   },
   {
    "duration": 2701,
    "start_time": "2021-11-14T18:38:45.020Z"
   },
   {
    "duration": 2822,
    "start_time": "2021-11-14T18:38:55.771Z"
   },
   {
    "duration": 126,
    "start_time": "2021-11-14T18:39:59.931Z"
   },
   {
    "duration": 402,
    "start_time": "2021-11-14T18:40:04.389Z"
   },
   {
    "duration": 392,
    "start_time": "2021-11-14T18:40:16.737Z"
   },
   {
    "duration": 478,
    "start_time": "2021-11-14T18:40:24.821Z"
   },
   {
    "duration": 471,
    "start_time": "2021-11-14T18:40:31.937Z"
   },
   {
    "duration": 353,
    "start_time": "2021-11-14T18:40:50.230Z"
   },
   {
    "duration": 364,
    "start_time": "2021-11-14T18:40:55.207Z"
   },
   {
    "duration": 522,
    "start_time": "2021-11-14T18:41:02.978Z"
   },
   {
    "duration": 512,
    "start_time": "2021-11-14T18:41:08.822Z"
   },
   {
    "duration": 4528,
    "start_time": "2021-11-14T18:41:23.524Z"
   },
   {
    "duration": 3106,
    "start_time": "2021-11-14T18:42:31.950Z"
   },
   {
    "duration": 2667,
    "start_time": "2021-11-14T18:42:40.603Z"
   },
   {
    "duration": 2902,
    "start_time": "2021-11-14T18:42:49.016Z"
   },
   {
    "duration": 4116,
    "start_time": "2021-11-14T18:43:53.269Z"
   },
   {
    "duration": 469,
    "start_time": "2021-11-14T18:45:13.859Z"
   },
   {
    "duration": 6254,
    "start_time": "2021-11-14T18:45:24.376Z"
   },
   {
    "duration": 7176,
    "start_time": "2021-11-14T18:46:35.626Z"
   },
   {
    "duration": 405,
    "start_time": "2021-11-14T18:48:14.663Z"
   },
   {
    "duration": 1071,
    "start_time": "2021-11-14T18:48:26.894Z"
   },
   {
    "duration": 352,
    "start_time": "2021-11-14T18:48:34.806Z"
   },
   {
    "duration": 406,
    "start_time": "2021-11-14T18:49:30.970Z"
   },
   {
    "duration": 3,
    "start_time": "2021-11-15T14:32:11.600Z"
   },
   {
    "duration": 327,
    "start_time": "2021-11-15T14:41:08.940Z"
   },
   {
    "duration": 1187,
    "start_time": "2021-11-15T14:41:14.424Z"
   },
   {
    "duration": 41,
    "start_time": "2021-11-15T14:41:15.613Z"
   },
   {
    "duration": 18,
    "start_time": "2021-11-15T14:41:15.656Z"
   },
   {
    "duration": 17,
    "start_time": "2021-11-15T14:41:15.676Z"
   },
   {
    "duration": 20,
    "start_time": "2021-11-15T14:41:15.695Z"
   },
   {
    "duration": 66,
    "start_time": "2021-11-15T14:41:15.717Z"
   },
   {
    "duration": 4,
    "start_time": "2021-11-15T14:41:15.785Z"
   },
   {
    "duration": 529,
    "start_time": "2021-11-15T14:41:15.791Z"
   },
   {
    "duration": 13,
    "start_time": "2021-11-15T14:41:16.322Z"
   },
   {
    "duration": 14,
    "start_time": "2021-11-15T14:41:23.324Z"
   },
   {
    "duration": 8,
    "start_time": "2021-11-15T14:46:46.372Z"
   },
   {
    "duration": 9,
    "start_time": "2021-11-15T14:49:14.157Z"
   },
   {
    "duration": 8,
    "start_time": "2021-11-15T14:49:44.219Z"
   },
   {
    "duration": 9,
    "start_time": "2021-11-15T14:50:04.211Z"
   },
   {
    "duration": 6,
    "start_time": "2021-11-15T14:50:17.257Z"
   },
   {
    "duration": 52,
    "start_time": "2021-11-15T14:50:17.265Z"
   },
   {
    "duration": 24,
    "start_time": "2021-11-15T14:50:17.320Z"
   },
   {
    "duration": 15,
    "start_time": "2021-11-15T14:50:17.346Z"
   },
   {
    "duration": 13,
    "start_time": "2021-11-15T14:50:17.363Z"
   },
   {
    "duration": 68,
    "start_time": "2021-11-15T14:50:17.378Z"
   },
   {
    "duration": 5,
    "start_time": "2021-11-15T14:50:17.448Z"
   },
   {
    "duration": 25,
    "start_time": "2021-11-15T14:50:17.454Z"
   },
   {
    "duration": 20,
    "start_time": "2021-11-15T14:50:17.481Z"
   },
   {
    "duration": 16,
    "start_time": "2021-11-15T14:50:17.503Z"
   },
   {
    "duration": 23,
    "start_time": "2021-11-15T14:50:17.521Z"
   },
   {
    "duration": 9,
    "start_time": "2021-11-15T14:50:27.705Z"
   },
   {
    "duration": 10,
    "start_time": "2021-11-15T14:50:31.434Z"
   },
   {
    "duration": 9,
    "start_time": "2021-11-15T14:57:21.147Z"
   },
   {
    "duration": 9,
    "start_time": "2021-11-15T15:00:43.914Z"
   },
   {
    "duration": 20,
    "start_time": "2021-11-15T15:02:07.923Z"
   },
   {
    "duration": 13,
    "start_time": "2021-11-15T15:04:47.405Z"
   },
   {
    "duration": 13,
    "start_time": "2021-11-15T15:04:52.280Z"
   },
   {
    "duration": 130,
    "start_time": "2021-11-15T15:06:04.316Z"
   },
   {
    "duration": 20,
    "start_time": "2021-11-15T15:06:07.552Z"
   },
   {
    "duration": 122,
    "start_time": "2021-11-15T15:07:13.635Z"
   },
   {
    "duration": 5,
    "start_time": "2021-11-15T15:09:37.459Z"
   },
   {
    "duration": 21,
    "start_time": "2021-11-15T15:20:04.126Z"
   },
   {
    "duration": 8,
    "start_time": "2021-11-15T15:20:04.149Z"
   },
   {
    "duration": 119,
    "start_time": "2021-11-15T15:20:04.159Z"
   },
   {
    "duration": 3,
    "start_time": "2021-11-15T15:20:04.280Z"
   },
   {
    "duration": 22,
    "start_time": "2021-11-15T15:20:04.285Z"
   },
   {
    "duration": 20,
    "start_time": "2021-11-15T15:28:11.962Z"
   },
   {
    "duration": 21,
    "start_time": "2021-11-15T15:28:17.064Z"
   },
   {
    "duration": 3,
    "start_time": "2021-11-15T15:28:26.880Z"
   },
   {
    "duration": 38,
    "start_time": "2021-11-15T15:28:26.887Z"
   },
   {
    "duration": 15,
    "start_time": "2021-11-15T15:28:26.927Z"
   },
   {
    "duration": 12,
    "start_time": "2021-11-15T15:28:26.944Z"
   },
   {
    "duration": 33,
    "start_time": "2021-11-15T15:28:26.958Z"
   },
   {
    "duration": 59,
    "start_time": "2021-11-15T15:28:26.993Z"
   },
   {
    "duration": 5,
    "start_time": "2021-11-15T15:28:27.054Z"
   },
   {
    "duration": 29,
    "start_time": "2021-11-15T15:28:27.060Z"
   },
   {
    "duration": 8,
    "start_time": "2021-11-15T15:28:27.092Z"
   },
   {
    "duration": 159,
    "start_time": "2021-11-15T15:28:27.102Z"
   },
   {
    "duration": 4,
    "start_time": "2021-11-15T15:28:27.263Z"
   },
   {
    "duration": 4470,
    "start_time": "2021-11-15T15:28:27.269Z"
   },
   {
    "duration": 4582,
    "start_time": "2021-11-15T15:28:31.741Z"
   },
   {
    "duration": 1249,
    "start_time": "2021-11-15T15:28:36.325Z"
   },
   {
    "duration": -583,
    "start_time": "2021-11-15T15:28:38.158Z"
   },
   {
    "duration": 716,
    "start_time": "2021-11-15T15:29:26.841Z"
   },
   {
    "duration": 4733,
    "start_time": "2021-11-15T15:30:43.622Z"
   },
   {
    "duration": 4509,
    "start_time": "2021-11-15T15:32:05.829Z"
   },
   {
    "duration": 8,
    "start_time": "2021-11-15T15:33:54.343Z"
   },
   {
    "duration": 7,
    "start_time": "2021-11-15T15:34:03.601Z"
   },
   {
    "duration": 4423,
    "start_time": "2021-11-15T15:34:03.610Z"
   },
   {
    "duration": 1286,
    "start_time": "2021-11-15T15:34:08.035Z"
   },
   {
    "duration": -309,
    "start_time": "2021-11-15T15:34:09.632Z"
   },
   {
    "duration": 3,
    "start_time": "2021-11-15T15:34:21.903Z"
   },
   {
    "duration": 40,
    "start_time": "2021-11-15T15:34:21.908Z"
   },
   {
    "duration": 17,
    "start_time": "2021-11-15T15:34:21.950Z"
   },
   {
    "duration": 13,
    "start_time": "2021-11-15T15:34:21.969Z"
   },
   {
    "duration": 13,
    "start_time": "2021-11-15T15:34:21.983Z"
   },
   {
    "duration": 67,
    "start_time": "2021-11-15T15:34:21.997Z"
   },
   {
    "duration": 5,
    "start_time": "2021-11-15T15:34:22.065Z"
   },
   {
    "duration": 24,
    "start_time": "2021-11-15T15:34:22.071Z"
   },
   {
    "duration": 9,
    "start_time": "2021-11-15T15:34:22.098Z"
   },
   {
    "duration": 207,
    "start_time": "2021-11-15T15:34:22.109Z"
   },
   {
    "duration": 4,
    "start_time": "2021-11-15T15:34:22.317Z"
   },
   {
    "duration": 4540,
    "start_time": "2021-11-15T15:34:22.323Z"
   },
   {
    "duration": 5,
    "start_time": "2021-11-15T15:34:26.865Z"
   },
   {
    "duration": 4326,
    "start_time": "2021-11-15T15:34:26.871Z"
   },
   {
    "duration": 712,
    "start_time": "2021-11-15T15:34:31.198Z"
   },
   {
    "duration": -457,
    "start_time": "2021-11-15T15:34:32.369Z"
   },
   {
    "duration": 9,
    "start_time": "2021-11-15T15:34:55.094Z"
   },
   {
    "duration": 4546,
    "start_time": "2021-11-15T15:35:16.477Z"
   },
   {
    "duration": 10,
    "start_time": "2021-11-15T15:35:21.025Z"
   },
   {
    "duration": 4410,
    "start_time": "2021-11-15T15:35:21.045Z"
   },
   {
    "duration": 847,
    "start_time": "2021-11-15T15:35:25.457Z"
   },
   {
    "duration": -280,
    "start_time": "2021-11-15T15:35:26.586Z"
   },
   {
    "duration": 6,
    "start_time": "2021-11-15T15:35:35.780Z"
   },
   {
    "duration": 6,
    "start_time": "2021-11-15T15:35:48.747Z"
   },
   {
    "duration": 4566,
    "start_time": "2021-11-15T15:35:48.755Z"
   },
   {
    "duration": 903,
    "start_time": "2021-11-15T15:35:53.323Z"
   },
   {
    "duration": -491,
    "start_time": "2021-11-15T15:35:54.719Z"
   },
   {
    "duration": 4493,
    "start_time": "2021-11-15T15:37:39.956Z"
   },
   {
    "duration": 4381,
    "start_time": "2021-11-15T15:38:36.275Z"
   },
   {
    "duration": 5398,
    "start_time": "2021-11-15T15:41:22.638Z"
   },
   {
    "duration": 6,
    "start_time": "2021-11-15T15:41:28.038Z"
   },
   {
    "duration": 4587,
    "start_time": "2021-11-15T15:41:28.047Z"
   },
   {
    "duration": 4428,
    "start_time": "2021-11-15T15:41:32.636Z"
   },
   {
    "duration": 759,
    "start_time": "2021-11-15T15:41:37.065Z"
   },
   {
    "duration": -279,
    "start_time": "2021-11-15T15:41:38.105Z"
   },
   {
    "duration": 5428,
    "start_time": "2021-11-15T15:42:30.186Z"
   },
   {
    "duration": 839,
    "start_time": "2021-11-15T15:43:18.319Z"
   },
   {
    "duration": 815,
    "start_time": "2021-11-15T15:43:30.488Z"
   },
   {
    "duration": 753,
    "start_time": "2021-11-15T15:45:21.968Z"
   },
   {
    "duration": 8924,
    "start_time": "2021-11-15T15:47:10.635Z"
   },
   {
    "duration": 13829,
    "start_time": "2021-11-15T15:47:56.209Z"
   },
   {
    "duration": 27,
    "start_time": "2021-11-15T15:49:14.430Z"
   },
   {
    "duration": 9103,
    "start_time": "2021-11-15T15:49:26.056Z"
   },
   {
    "duration": 18,
    "start_time": "2021-11-15T15:49:35.160Z"
   },
   {
    "duration": 13705,
    "start_time": "2021-11-15T15:49:50.205Z"
   },
   {
    "duration": 22,
    "start_time": "2021-11-15T15:50:03.912Z"
   },
   {
    "duration": 35,
    "start_time": "2021-11-15T15:50:51.260Z"
   },
   {
    "duration": 21,
    "start_time": "2021-11-15T15:50:53.452Z"
   },
   {
    "duration": 541,
    "start_time": "2021-11-15T15:51:28.921Z"
   },
   {
    "duration": 18,
    "start_time": "2021-11-15T15:51:31.482Z"
   },
   {
    "duration": 14825,
    "start_time": "2021-11-15T15:51:39.048Z"
   },
   {
    "duration": 20,
    "start_time": "2021-11-15T15:51:53.874Z"
   },
   {
    "duration": 9981,
    "start_time": "2021-11-15T15:52:04.456Z"
   },
   {
    "duration": 27,
    "start_time": "2021-11-15T15:52:14.439Z"
   },
   {
    "duration": 4,
    "start_time": "2021-11-15T15:53:13.362Z"
   },
   {
    "duration": 38,
    "start_time": "2021-11-15T15:53:13.367Z"
   },
   {
    "duration": 17,
    "start_time": "2021-11-15T15:53:13.407Z"
   },
   {
    "duration": 12,
    "start_time": "2021-11-15T15:53:13.425Z"
   },
   {
    "duration": 13,
    "start_time": "2021-11-15T15:53:13.438Z"
   },
   {
    "duration": 50,
    "start_time": "2021-11-15T15:53:13.452Z"
   },
   {
    "duration": 4,
    "start_time": "2021-11-15T15:53:13.504Z"
   },
   {
    "duration": 35,
    "start_time": "2021-11-15T15:53:13.510Z"
   },
   {
    "duration": 8,
    "start_time": "2021-11-15T15:53:13.547Z"
   },
   {
    "duration": 6650,
    "start_time": "2021-11-15T15:53:13.557Z"
   },
   {
    "duration": 301,
    "start_time": "2021-11-15T15:53:20.209Z"
   },
   {
    "duration": -204,
    "start_time": "2021-11-15T15:53:20.716Z"
   },
   {
    "duration": -205,
    "start_time": "2021-11-15T15:53:20.718Z"
   },
   {
    "duration": -206,
    "start_time": "2021-11-15T15:53:20.720Z"
   },
   {
    "duration": -207,
    "start_time": "2021-11-15T15:53:20.722Z"
   },
   {
    "duration": 4422,
    "start_time": "2021-11-15T15:53:40.733Z"
   },
   {
    "duration": 4522,
    "start_time": "2021-11-15T15:53:45.157Z"
   },
   {
    "duration": 10122,
    "start_time": "2021-11-15T15:53:49.681Z"
   },
   {
    "duration": 19,
    "start_time": "2021-11-15T15:53:59.804Z"
   },
   {
    "duration": 3,
    "start_time": "2021-11-15T15:54:19.865Z"
   },
   {
    "duration": 40,
    "start_time": "2021-11-15T15:54:19.869Z"
   },
   {
    "duration": 16,
    "start_time": "2021-11-15T15:54:19.911Z"
   },
   {
    "duration": 11,
    "start_time": "2021-11-15T15:54:19.929Z"
   },
   {
    "duration": 13,
    "start_time": "2021-11-15T15:54:19.942Z"
   },
   {
    "duration": 51,
    "start_time": "2021-11-15T15:54:19.957Z"
   },
   {
    "duration": 4,
    "start_time": "2021-11-15T15:54:20.010Z"
   },
   {
    "duration": 43,
    "start_time": "2021-11-15T15:54:20.016Z"
   },
   {
    "duration": 8,
    "start_time": "2021-11-15T15:54:20.061Z"
   },
   {
    "duration": 134,
    "start_time": "2021-11-15T15:54:20.071Z"
   },
   {
    "duration": 4,
    "start_time": "2021-11-15T15:54:20.207Z"
   },
   {
    "duration": 4497,
    "start_time": "2021-11-15T15:54:20.212Z"
   },
   {
    "duration": 5019,
    "start_time": "2021-11-15T15:54:24.711Z"
   },
   {
    "duration": 10103,
    "start_time": "2021-11-15T15:54:29.731Z"
   },
   {
    "duration": 28,
    "start_time": "2021-11-15T15:54:39.836Z"
   },
   {
    "duration": 747,
    "start_time": "2021-11-15T15:55:50.342Z"
   },
   {
    "duration": 9117,
    "start_time": "2021-11-15T15:55:56.172Z"
   },
   {
    "duration": 20,
    "start_time": "2021-11-15T15:56:05.291Z"
   },
   {
    "duration": 20,
    "start_time": "2021-11-15T15:56:26.599Z"
   },
   {
    "duration": 13,
    "start_time": "2021-11-15T15:56:50.383Z"
   },
   {
    "duration": 9,
    "start_time": "2021-11-15T15:56:56.073Z"
   },
   {
    "duration": 4377,
    "start_time": "2021-11-15T15:57:44.999Z"
   },
   {
    "duration": 444,
    "start_time": "2021-11-15T15:58:04.191Z"
   },
   {
    "duration": 4382,
    "start_time": "2021-11-15T15:58:20.650Z"
   },
   {
    "duration": 3,
    "start_time": "2021-11-15T15:59:33.981Z"
   },
   {
    "duration": 47,
    "start_time": "2021-11-15T15:59:33.986Z"
   },
   {
    "duration": 16,
    "start_time": "2021-11-15T15:59:34.035Z"
   },
   {
    "duration": 11,
    "start_time": "2021-11-15T15:59:34.053Z"
   },
   {
    "duration": 13,
    "start_time": "2021-11-15T15:59:34.066Z"
   },
   {
    "duration": 48,
    "start_time": "2021-11-15T15:59:34.080Z"
   },
   {
    "duration": 17,
    "start_time": "2021-11-15T15:59:34.129Z"
   },
   {
    "duration": 23,
    "start_time": "2021-11-15T15:59:34.148Z"
   },
   {
    "duration": 8,
    "start_time": "2021-11-15T15:59:34.173Z"
   },
   {
    "duration": 134,
    "start_time": "2021-11-15T15:59:34.183Z"
   },
   {
    "duration": 4,
    "start_time": "2021-11-15T15:59:34.318Z"
   },
   {
    "duration": 4391,
    "start_time": "2021-11-15T15:59:34.324Z"
   },
   {
    "duration": 4442,
    "start_time": "2021-11-15T15:59:38.716Z"
   },
   {
    "duration": 7,
    "start_time": "2021-11-15T15:59:52.508Z"
   },
   {
    "duration": 44,
    "start_time": "2021-11-15T15:59:52.517Z"
   },
   {
    "duration": 16,
    "start_time": "2021-11-15T15:59:52.563Z"
   },
   {
    "duration": 11,
    "start_time": "2021-11-15T15:59:52.581Z"
   },
   {
    "duration": 18,
    "start_time": "2021-11-15T15:59:52.594Z"
   },
   {
    "duration": 66,
    "start_time": "2021-11-15T15:59:52.614Z"
   },
   {
    "duration": 4,
    "start_time": "2021-11-15T15:59:52.682Z"
   },
   {
    "duration": 34,
    "start_time": "2021-11-15T15:59:52.687Z"
   },
   {
    "duration": 8,
    "start_time": "2021-11-15T15:59:52.722Z"
   },
   {
    "duration": 132,
    "start_time": "2021-11-15T15:59:52.731Z"
   },
   {
    "duration": 4,
    "start_time": "2021-11-15T15:59:52.864Z"
   },
   {
    "duration": 4287,
    "start_time": "2021-11-15T15:59:52.870Z"
   },
   {
    "duration": 4405,
    "start_time": "2021-11-15T15:59:57.159Z"
   },
   {
    "duration": 9837,
    "start_time": "2021-11-15T16:00:01.566Z"
   },
   {
    "duration": 18,
    "start_time": "2021-11-15T16:00:11.405Z"
   },
   {
    "duration": 19,
    "start_time": "2021-11-15T16:00:11.425Z"
   },
   {
    "duration": 4414,
    "start_time": "2021-11-15T16:00:39.529Z"
   },
   {
    "duration": 18,
    "start_time": "2021-11-15T16:02:08.706Z"
   },
   {
    "duration": 19,
    "start_time": "2021-11-15T16:02:09.303Z"
   },
   {
    "duration": 1130,
    "start_time": "2021-11-15T16:02:19.929Z"
   },
   {
    "duration": 39,
    "start_time": "2021-11-15T16:02:21.062Z"
   },
   {
    "duration": 16,
    "start_time": "2021-11-15T16:02:21.103Z"
   },
   {
    "duration": 23,
    "start_time": "2021-11-15T16:02:21.121Z"
   },
   {
    "duration": 19,
    "start_time": "2021-11-15T16:02:21.147Z"
   },
   {
    "duration": 53,
    "start_time": "2021-11-15T16:02:21.168Z"
   },
   {
    "duration": 5,
    "start_time": "2021-11-15T16:02:21.223Z"
   },
   {
    "duration": 539,
    "start_time": "2021-11-15T16:02:21.244Z"
   },
   {
    "duration": 9,
    "start_time": "2021-11-15T16:02:21.785Z"
   },
   {
    "duration": 140,
    "start_time": "2021-11-15T16:02:21.796Z"
   },
   {
    "duration": 6,
    "start_time": "2021-11-15T16:02:21.938Z"
   },
   {
    "duration": 4677,
    "start_time": "2021-11-15T16:02:21.946Z"
   },
   {
    "duration": 4891,
    "start_time": "2021-11-15T16:02:26.625Z"
   },
   {
    "duration": 27,
    "start_time": "2021-11-15T16:02:31.518Z"
   },
   {
    "duration": 23,
    "start_time": "2021-11-15T16:02:31.548Z"
   },
   {
    "duration": 24,
    "start_time": "2021-11-15T16:02:31.573Z"
   },
   {
    "duration": 68,
    "start_time": "2021-11-15T16:04:36.890Z"
   },
   {
    "duration": 4739,
    "start_time": "2021-11-15T16:04:45.066Z"
   },
   {
    "duration": 73,
    "start_time": "2021-11-15T16:04:49.807Z"
   },
   {
    "duration": 18,
    "start_time": "2021-11-15T16:04:49.882Z"
   },
   {
    "duration": 18,
    "start_time": "2021-11-15T16:04:49.902Z"
   },
   {
    "duration": 30,
    "start_time": "2021-11-15T16:04:49.922Z"
   },
   {
    "duration": 6,
    "start_time": "2021-11-15T16:05:16.672Z"
   },
   {
    "duration": 6,
    "start_time": "2021-11-15T16:07:07.410Z"
   },
   {
    "duration": 11,
    "start_time": "2021-11-15T16:07:40.082Z"
   },
   {
    "duration": 2947,
    "start_time": "2021-11-15T16:09:07.207Z"
   },
   {
    "duration": 5071,
    "start_time": "2021-11-15T16:10:53.535Z"
   },
   {
    "duration": 6,
    "start_time": "2021-11-15T16:11:59.322Z"
   },
   {
    "duration": 6261,
    "start_time": "2021-11-15T16:13:35.748Z"
   },
   {
    "duration": 10523,
    "start_time": "2021-11-15T16:14:09.514Z"
   },
   {
    "duration": 32,
    "start_time": "2021-11-15T16:14:20.137Z"
   },
   {
    "duration": 9,
    "start_time": "2021-11-15T16:14:22.213Z"
   },
   {
    "duration": 7,
    "start_time": "2021-11-15T16:16:22.946Z"
   },
   {
    "duration": 5,
    "start_time": "2021-11-15T16:16:34.327Z"
   },
   {
    "duration": 6,
    "start_time": "2021-11-15T16:19:42.610Z"
   },
   {
    "duration": 1081,
    "start_time": "2021-11-15T16:20:52.397Z"
   },
   {
    "duration": 52,
    "start_time": "2021-11-15T16:20:53.480Z"
   },
   {
    "duration": 28,
    "start_time": "2021-11-15T16:20:53.535Z"
   },
   {
    "duration": 23,
    "start_time": "2021-11-15T16:20:53.566Z"
   },
   {
    "duration": 16,
    "start_time": "2021-11-15T16:20:53.591Z"
   },
   {
    "duration": 101,
    "start_time": "2021-11-15T16:20:53.609Z"
   },
   {
    "duration": 5,
    "start_time": "2021-11-15T16:20:53.712Z"
   },
   {
    "duration": 611,
    "start_time": "2021-11-15T16:20:53.720Z"
   },
   {
    "duration": 9,
    "start_time": "2021-11-15T16:20:54.333Z"
   },
   {
    "duration": 143,
    "start_time": "2021-11-15T16:20:54.344Z"
   },
   {
    "duration": 4,
    "start_time": "2021-11-15T16:20:54.488Z"
   },
   {
    "duration": 5150,
    "start_time": "2021-11-15T16:20:54.494Z"
   },
   {
    "duration": 948,
    "start_time": "2021-11-15T16:20:59.648Z"
   },
   {
    "duration": -498,
    "start_time": "2021-11-15T16:21:01.096Z"
   },
   {
    "duration": -501,
    "start_time": "2021-11-15T16:21:01.100Z"
   },
   {
    "duration": -502,
    "start_time": "2021-11-15T16:21:01.102Z"
   },
   {
    "duration": -505,
    "start_time": "2021-11-15T16:21:01.106Z"
   },
   {
    "duration": -625,
    "start_time": "2021-11-15T16:21:01.226Z"
   },
   {
    "duration": 1798,
    "start_time": "2021-11-15T16:21:11.712Z"
   },
   {
    "duration": 1485,
    "start_time": "2021-11-15T16:21:44.583Z"
   },
   {
    "duration": 309,
    "start_time": "2021-11-15T16:21:57.633Z"
   },
   {
    "duration": 9,
    "start_time": "2021-11-15T16:22:18.481Z"
   },
   {
    "duration": 1183,
    "start_time": "2021-11-15T16:23:26.299Z"
   },
   {
    "duration": 40,
    "start_time": "2021-11-15T16:23:27.484Z"
   },
   {
    "duration": 22,
    "start_time": "2021-11-15T16:23:27.526Z"
   },
   {
    "duration": 16,
    "start_time": "2021-11-15T16:23:27.550Z"
   },
   {
    "duration": 15,
    "start_time": "2021-11-15T16:23:27.567Z"
   },
   {
    "duration": 84,
    "start_time": "2021-11-15T16:23:27.584Z"
   },
   {
    "duration": 4,
    "start_time": "2021-11-15T16:23:27.670Z"
   },
   {
    "duration": 535,
    "start_time": "2021-11-15T16:23:27.677Z"
   },
   {
    "duration": 9,
    "start_time": "2021-11-15T16:23:28.214Z"
   },
   {
    "duration": 130,
    "start_time": "2021-11-15T16:23:28.225Z"
   },
   {
    "duration": 4,
    "start_time": "2021-11-15T16:23:28.357Z"
   },
   {
    "duration": 4859,
    "start_time": "2021-11-15T16:23:28.362Z"
   },
   {
    "duration": 23,
    "start_time": "2021-11-15T16:23:33.222Z"
   },
   {
    "duration": 4858,
    "start_time": "2021-11-15T16:23:33.247Z"
   },
   {
    "duration": 9294,
    "start_time": "2021-11-15T16:23:38.106Z"
   },
   {
    "duration": 20,
    "start_time": "2021-11-15T16:23:47.401Z"
   },
   {
    "duration": 5,
    "start_time": "2021-11-15T16:23:47.422Z"
   },
   {
    "duration": 22,
    "start_time": "2021-11-15T16:23:47.428Z"
   },
   {
    "duration": 176,
    "start_time": "2021-11-15T17:09:07.140Z"
   },
   {
    "duration": 334,
    "start_time": "2021-11-15T18:45:08.213Z"
   },
   {
    "duration": 344,
    "start_time": "2021-11-15T18:45:18.319Z"
   },
   {
    "duration": 204,
    "start_time": "2021-11-15T18:45:25.524Z"
   },
   {
    "duration": 461,
    "start_time": "2021-11-18T14:57:01.594Z"
   },
   {
    "duration": 1330,
    "start_time": "2021-11-18T14:57:09.415Z"
   },
   {
    "duration": 47,
    "start_time": "2021-11-18T14:57:10.748Z"
   },
   {
    "duration": 25,
    "start_time": "2021-11-18T14:57:10.799Z"
   },
   {
    "duration": 40,
    "start_time": "2021-11-18T14:57:10.827Z"
   },
   {
    "duration": 15,
    "start_time": "2021-11-18T14:57:10.869Z"
   },
   {
    "duration": 103,
    "start_time": "2021-11-18T14:57:10.886Z"
   },
   {
    "duration": 7,
    "start_time": "2021-11-18T14:57:10.992Z"
   },
   {
    "duration": 591,
    "start_time": "2021-11-18T14:57:11.003Z"
   },
   {
    "duration": 12,
    "start_time": "2021-11-18T14:57:11.597Z"
   },
   {
    "duration": 240,
    "start_time": "2021-11-18T14:57:11.611Z"
   },
   {
    "duration": 14,
    "start_time": "2021-11-18T14:57:11.853Z"
   },
   {
    "duration": 8172,
    "start_time": "2021-11-18T14:57:11.870Z"
   },
   {
    "duration": 24,
    "start_time": "2021-11-18T14:57:20.044Z"
   },
   {
    "duration": 8254,
    "start_time": "2021-11-18T14:57:20.071Z"
   },
   {
    "duration": 15553,
    "start_time": "2021-11-18T14:57:28.328Z"
   },
   {
    "duration": 33,
    "start_time": "2021-11-18T14:57:43.884Z"
   },
   {
    "duration": 8,
    "start_time": "2021-11-18T14:57:43.920Z"
   },
   {
    "duration": 7,
    "start_time": "2021-11-18T14:57:43.931Z"
   },
   {
    "duration": 586,
    "start_time": "2021-11-18T14:57:44.328Z"
   },
   {
    "duration": 1256,
    "start_time": "2021-11-18T14:57:44.917Z"
   },
   {
    "duration": 525,
    "start_time": "2021-11-18T14:57:46.177Z"
   },
   {
    "duration": 1190,
    "start_time": "2021-11-18T14:59:37.977Z"
   },
   {
    "duration": 978,
    "start_time": "2021-11-18T14:59:55.304Z"
   },
   {
    "duration": 913,
    "start_time": "2021-11-18T15:00:47.654Z"
   },
   {
    "duration": 946,
    "start_time": "2021-11-18T15:01:33.324Z"
   },
   {
    "duration": 841,
    "start_time": "2021-11-18T15:01:55.457Z"
   },
   {
    "duration": 683,
    "start_time": "2021-11-18T15:02:39.771Z"
   },
   {
    "duration": 1008,
    "start_time": "2021-11-18T15:02:42.448Z"
   },
   {
    "duration": 751,
    "start_time": "2021-11-18T15:02:54.573Z"
   },
   {
    "duration": 990,
    "start_time": "2021-11-18T15:03:04.017Z"
   },
   {
    "duration": 908,
    "start_time": "2021-11-18T15:04:27.059Z"
   },
   {
    "duration": 1087,
    "start_time": "2021-11-18T15:04:31.997Z"
   },
   {
    "duration": 949,
    "start_time": "2021-11-18T15:04:37.473Z"
   },
   {
    "duration": 897,
    "start_time": "2021-11-18T15:04:43.876Z"
   },
   {
    "duration": 925,
    "start_time": "2021-11-18T15:04:48.156Z"
   },
   {
    "duration": 1015,
    "start_time": "2021-11-18T15:07:35.721Z"
   },
   {
    "duration": 990,
    "start_time": "2021-11-18T15:07:41.480Z"
   },
   {
    "duration": 916,
    "start_time": "2021-11-18T15:07:45.878Z"
   },
   {
    "duration": 938,
    "start_time": "2021-11-18T15:07:53.511Z"
   },
   {
    "duration": 1031,
    "start_time": "2021-11-18T15:08:04.452Z"
   },
   {
    "duration": 921,
    "start_time": "2021-11-18T15:08:11.224Z"
   },
   {
    "duration": 1095,
    "start_time": "2021-11-18T15:08:29.811Z"
   },
   {
    "duration": 1027,
    "start_time": "2021-11-18T15:08:36.047Z"
   },
   {
    "duration": 1096,
    "start_time": "2021-11-18T15:08:47.158Z"
   },
   {
    "duration": 1040,
    "start_time": "2021-11-18T15:09:05.792Z"
   },
   {
    "duration": 851,
    "start_time": "2021-11-18T15:09:12.411Z"
   },
   {
    "duration": 941,
    "start_time": "2021-11-18T15:09:19.182Z"
   },
   {
    "duration": 994,
    "start_time": "2021-11-18T15:09:26.384Z"
   },
   {
    "duration": 1021,
    "start_time": "2021-11-18T15:10:40.595Z"
   },
   {
    "duration": 920,
    "start_time": "2021-11-18T15:11:43.239Z"
   },
   {
    "duration": 324,
    "start_time": "2021-11-18T15:33:06.387Z"
   },
   {
    "duration": 1058,
    "start_time": "2021-11-18T15:48:40.772Z"
   },
   {
    "duration": 7,
    "start_time": "2021-11-18T18:53:43.106Z"
   },
   {
    "duration": 971,
    "start_time": "2021-11-18T18:57:58.187Z"
   },
   {
    "duration": 408,
    "start_time": "2021-11-18T18:59:08.248Z"
   },
   {
    "duration": 1362,
    "start_time": "2021-11-18T19:06:31.470Z"
   },
   {
    "duration": 48,
    "start_time": "2021-11-18T19:06:32.835Z"
   },
   {
    "duration": 27,
    "start_time": "2021-11-18T19:06:32.886Z"
   },
   {
    "duration": 23,
    "start_time": "2021-11-18T19:06:32.916Z"
   },
   {
    "duration": 37,
    "start_time": "2021-11-18T19:06:32.942Z"
   },
   {
    "duration": 93,
    "start_time": "2021-11-18T19:06:32.981Z"
   },
   {
    "duration": 7,
    "start_time": "2021-11-18T19:06:33.077Z"
   },
   {
    "duration": 625,
    "start_time": "2021-11-18T19:06:33.086Z"
   },
   {
    "duration": 12,
    "start_time": "2021-11-18T19:06:33.715Z"
   },
   {
    "duration": 239,
    "start_time": "2021-11-18T19:06:33.730Z"
   },
   {
    "duration": 6,
    "start_time": "2021-11-18T19:06:33.971Z"
   },
   {
    "duration": 8431,
    "start_time": "2021-11-18T19:06:33.979Z"
   },
   {
    "duration": 12,
    "start_time": "2021-11-18T19:06:42.412Z"
   },
   {
    "duration": 8599,
    "start_time": "2021-11-18T19:06:42.427Z"
   },
   {
    "duration": 15928,
    "start_time": "2021-11-18T19:06:51.029Z"
   },
   {
    "duration": 27,
    "start_time": "2021-11-18T19:07:06.959Z"
   },
   {
    "duration": 7,
    "start_time": "2021-11-18T19:07:06.989Z"
   },
   {
    "duration": 10,
    "start_time": "2021-11-18T19:07:06.998Z"
   },
   {
    "duration": 340,
    "start_time": "2021-11-18T19:07:07.010Z"
   },
   {
    "duration": 654,
    "start_time": "2021-11-18T19:07:07.352Z"
   },
   {
    "duration": 909,
    "start_time": "2021-11-18T19:07:08.008Z"
   },
   {
    "duration": 6,
    "start_time": "2021-11-18T19:07:08.920Z"
   },
   {
    "duration": 427,
    "start_time": "2021-11-18T19:07:08.928Z"
   },
   {
    "duration": 1397,
    "start_time": "2021-11-18T19:11:10.943Z"
   },
   {
    "duration": 46,
    "start_time": "2021-11-18T19:11:12.343Z"
   },
   {
    "duration": 26,
    "start_time": "2021-11-18T19:11:12.392Z"
   },
   {
    "duration": 23,
    "start_time": "2021-11-18T19:11:12.420Z"
   },
   {
    "duration": 35,
    "start_time": "2021-11-18T19:11:12.445Z"
   },
   {
    "duration": 94,
    "start_time": "2021-11-18T19:11:12.483Z"
   },
   {
    "duration": 7,
    "start_time": "2021-11-18T19:11:12.580Z"
   },
   {
    "duration": 589,
    "start_time": "2021-11-18T19:11:12.591Z"
   },
   {
    "duration": 13,
    "start_time": "2021-11-18T19:11:13.183Z"
   },
   {
    "duration": 244,
    "start_time": "2021-11-18T19:11:13.198Z"
   },
   {
    "duration": 6,
    "start_time": "2021-11-18T19:11:13.444Z"
   },
   {
    "duration": 8596,
    "start_time": "2021-11-18T19:11:13.468Z"
   },
   {
    "duration": 14,
    "start_time": "2021-11-18T19:11:22.067Z"
   },
   {
    "duration": 8529,
    "start_time": "2021-11-18T19:11:22.084Z"
   },
   {
    "duration": 16445,
    "start_time": "2021-11-18T19:11:30.616Z"
   },
   {
    "duration": 26,
    "start_time": "2021-11-18T19:11:47.063Z"
   },
   {
    "duration": 7,
    "start_time": "2021-11-18T19:11:47.092Z"
   },
   {
    "duration": 8,
    "start_time": "2021-11-18T19:11:47.101Z"
   },
   {
    "duration": 359,
    "start_time": "2021-11-18T19:11:47.111Z"
   },
   {
    "duration": 577,
    "start_time": "2021-11-18T19:11:47.473Z"
   },
   {
    "duration": 1038,
    "start_time": "2021-11-18T19:11:48.053Z"
   },
   {
    "duration": 6,
    "start_time": "2021-11-18T19:11:49.094Z"
   },
   {
    "duration": 426,
    "start_time": "2021-11-18T19:11:49.106Z"
   },
   {
    "duration": 120936,
    "start_time": "2021-11-18T19:11:49.535Z"
   },
   {
    "duration": 124073,
    "start_time": "2021-11-18T19:14:33.124Z"
   },
   {
    "duration": 32,
    "start_time": "2021-11-18T19:16:37.199Z"
   },
   {
    "duration": 1474,
    "start_time": "2021-11-18T19:18:11.250Z"
   },
   {
    "duration": 479,
    "start_time": "2021-11-18T19:18:19.544Z"
   },
   {
    "duration": 258,
    "start_time": "2021-11-18T19:18:45.878Z"
   },
   {
    "duration": 485,
    "start_time": "2021-11-18T19:18:53.510Z"
   },
   {
    "duration": 313,
    "start_time": "2021-11-18T19:19:01.267Z"
   },
   {
    "duration": 271,
    "start_time": "2021-11-18T19:19:04.000Z"
   },
   {
    "duration": 271,
    "start_time": "2021-11-18T19:19:57.475Z"
   },
   {
    "duration": 265,
    "start_time": "2021-11-18T19:20:19.326Z"
   },
   {
    "duration": 270,
    "start_time": "2021-11-18T19:20:22.791Z"
   },
   {
    "duration": 1434,
    "start_time": "2021-11-18T19:20:34.837Z"
   },
   {
    "duration": 48,
    "start_time": "2021-11-18T19:20:36.274Z"
   },
   {
    "duration": 29,
    "start_time": "2021-11-18T19:20:36.325Z"
   },
   {
    "duration": 23,
    "start_time": "2021-11-18T19:20:36.367Z"
   },
   {
    "duration": 16,
    "start_time": "2021-11-18T19:20:36.393Z"
   },
   {
    "duration": 103,
    "start_time": "2021-11-18T19:20:36.412Z"
   },
   {
    "duration": 6,
    "start_time": "2021-11-18T19:20:36.517Z"
   },
   {
    "duration": 594,
    "start_time": "2021-11-18T19:20:36.527Z"
   },
   {
    "duration": 12,
    "start_time": "2021-11-18T19:20:37.124Z"
   },
   {
    "duration": 242,
    "start_time": "2021-11-18T19:20:37.140Z"
   },
   {
    "duration": 6,
    "start_time": "2021-11-18T19:20:37.384Z"
   },
   {
    "duration": 8596,
    "start_time": "2021-11-18T19:20:37.393Z"
   },
   {
    "duration": 12,
    "start_time": "2021-11-18T19:20:45.991Z"
   },
   {
    "duration": 8515,
    "start_time": "2021-11-18T19:20:46.005Z"
   },
   {
    "duration": 16076,
    "start_time": "2021-11-18T19:20:54.522Z"
   },
   {
    "duration": 27,
    "start_time": "2021-11-18T19:21:10.600Z"
   },
   {
    "duration": 7,
    "start_time": "2021-11-18T19:21:10.629Z"
   },
   {
    "duration": 33,
    "start_time": "2021-11-18T19:21:10.638Z"
   },
   {
    "duration": 321,
    "start_time": "2021-11-18T19:21:10.673Z"
   },
   {
    "duration": 560,
    "start_time": "2021-11-18T19:21:10.997Z"
   },
   {
    "duration": 921,
    "start_time": "2021-11-18T19:21:11.567Z"
   },
   {
    "duration": 7,
    "start_time": "2021-11-18T19:21:12.490Z"
   },
   {
    "duration": 402,
    "start_time": "2021-11-18T19:21:12.501Z"
   },
   {
    "duration": 125239,
    "start_time": "2021-11-18T19:21:12.906Z"
   },
   {
    "duration": 29,
    "start_time": "2021-11-18T19:23:18.149Z"
   },
   {
    "duration": 13,
    "start_time": "2021-11-18T19:23:18.180Z"
   },
   {
    "duration": 646,
    "start_time": "2021-11-18T19:29:42.024Z"
   },
   {
    "duration": 644,
    "start_time": "2021-11-18T19:29:56.223Z"
   },
   {
    "duration": 136,
    "start_time": "2021-11-18T19:30:06.118Z"
   },
   {
    "duration": 709,
    "start_time": "2021-11-18T19:30:11.470Z"
   },
   {
    "duration": 4546,
    "start_time": "2021-11-18T19:30:15.654Z"
   },
   {
    "duration": 626,
    "start_time": "2021-11-18T19:30:25.842Z"
   },
   {
    "duration": 657,
    "start_time": "2021-11-18T19:30:31.250Z"
   },
   {
    "duration": 672,
    "start_time": "2021-11-18T19:32:17.508Z"
   },
   {
    "duration": 625,
    "start_time": "2021-11-18T19:32:22.058Z"
   },
   {
    "duration": 634,
    "start_time": "2021-11-18T19:32:29.453Z"
   },
   {
    "duration": 748,
    "start_time": "2021-11-18T19:32:34.086Z"
   },
   {
    "duration": 85,
    "start_time": "2021-11-18T19:34:15.280Z"
   },
   {
    "duration": 687,
    "start_time": "2021-11-18T19:34:22.309Z"
   },
   {
    "duration": 677,
    "start_time": "2021-11-18T19:36:38.525Z"
   },
   {
    "duration": 601,
    "start_time": "2021-11-18T19:36:42.992Z"
   },
   {
    "duration": 645,
    "start_time": "2021-11-18T19:36:46.344Z"
   },
   {
    "duration": 791,
    "start_time": "2021-11-18T19:36:50.593Z"
   },
   {
    "duration": 586,
    "start_time": "2021-11-18T19:36:54.972Z"
   },
   {
    "duration": 619,
    "start_time": "2021-11-18T19:37:06.369Z"
   },
   {
    "duration": 1059,
    "start_time": "2021-11-18T19:38:19.976Z"
   },
   {
    "duration": 654,
    "start_time": "2021-11-18T19:38:28.415Z"
   },
   {
    "duration": 665,
    "start_time": "2021-11-18T19:41:08.220Z"
   },
   {
    "duration": 741,
    "start_time": "2021-11-18T19:41:22.853Z"
   },
   {
    "duration": 310,
    "start_time": "2021-11-18T19:47:04.752Z"
   },
   {
    "duration": 548,
    "start_time": "2021-11-18T19:47:31.545Z"
   },
   {
    "duration": 635,
    "start_time": "2021-11-18T19:47:47.744Z"
   },
   {
    "duration": 532,
    "start_time": "2021-11-19T08:54:35.103Z"
   },
   {
    "duration": 1432,
    "start_time": "2021-11-19T08:54:42.202Z"
   },
   {
    "duration": 55,
    "start_time": "2021-11-19T08:54:43.637Z"
   },
   {
    "duration": 25,
    "start_time": "2021-11-19T08:54:43.695Z"
   },
   {
    "duration": 23,
    "start_time": "2021-11-19T08:54:43.723Z"
   },
   {
    "duration": 38,
    "start_time": "2021-11-19T08:54:43.749Z"
   },
   {
    "duration": 93,
    "start_time": "2021-11-19T08:54:43.790Z"
   },
   {
    "duration": 7,
    "start_time": "2021-11-19T08:54:43.886Z"
   },
   {
    "duration": 741,
    "start_time": "2021-11-19T08:54:43.896Z"
   },
   {
    "duration": 12,
    "start_time": "2021-11-19T08:54:44.641Z"
   },
   {
    "duration": 232,
    "start_time": "2021-11-19T08:54:44.655Z"
   },
   {
    "duration": 5,
    "start_time": "2021-11-19T08:54:44.889Z"
   },
   {
    "duration": 8058,
    "start_time": "2021-11-19T08:54:44.897Z"
   },
   {
    "duration": 26,
    "start_time": "2021-11-19T08:54:52.957Z"
   },
   {
    "duration": 11517,
    "start_time": "2021-11-19T08:54:52.986Z"
   },
   {
    "duration": 15309,
    "start_time": "2021-11-19T08:55:04.506Z"
   },
   {
    "duration": 26,
    "start_time": "2021-11-19T08:55:19.817Z"
   },
   {
    "duration": 6,
    "start_time": "2021-11-19T08:55:19.846Z"
   },
   {
    "duration": 32,
    "start_time": "2021-11-19T08:55:19.855Z"
   },
   {
    "duration": 318,
    "start_time": "2021-11-19T08:55:19.889Z"
   },
   {
    "duration": 548,
    "start_time": "2021-11-19T08:55:20.210Z"
   },
   {
    "duration": 871,
    "start_time": "2021-11-19T08:55:20.760Z"
   },
   {
    "duration": 6,
    "start_time": "2021-11-19T08:55:21.634Z"
   },
   {
    "duration": 383,
    "start_time": "2021-11-19T08:55:21.642Z"
   },
   {
    "duration": 611,
    "start_time": "2021-11-19T08:55:22.028Z"
   },
   {
    "duration": 940,
    "start_time": "2021-11-19T09:05:16.721Z"
   },
   {
    "duration": 864,
    "start_time": "2021-11-19T09:05:26.794Z"
   },
   {
    "duration": 536,
    "start_time": "2021-11-19T09:13:12.684Z"
   },
   {
    "duration": 413,
    "start_time": "2021-11-19T09:13:19.091Z"
   },
   {
    "duration": 1134,
    "start_time": "2021-11-19T09:13:34.392Z"
   },
   {
    "duration": 562,
    "start_time": "2021-11-19T09:13:44.670Z"
   },
   {
    "duration": 321,
    "start_time": "2021-11-19T09:13:59.547Z"
   },
   {
    "duration": 648,
    "start_time": "2021-11-19T09:15:54.551Z"
   },
   {
    "duration": 957,
    "start_time": "2021-11-19T09:16:25.110Z"
   },
   {
    "duration": 744,
    "start_time": "2021-11-19T09:16:42.066Z"
   },
   {
    "duration": 1059,
    "start_time": "2021-11-19T09:17:40.973Z"
   },
   {
    "duration": 630,
    "start_time": "2021-11-19T09:17:53.960Z"
   },
   {
    "duration": 107,
    "start_time": "2021-11-19T09:25:39.667Z"
   },
   {
    "duration": 298,
    "start_time": "2021-11-19T09:37:22.307Z"
   },
   {
    "duration": 987,
    "start_time": "2021-11-19T09:37:50.287Z"
   },
   {
    "duration": 371,
    "start_time": "2021-11-19T09:38:08.303Z"
   },
   {
    "duration": 675,
    "start_time": "2021-11-19T09:38:23.735Z"
   },
   {
    "duration": 527,
    "start_time": "2021-11-19T09:38:59.567Z"
   },
   {
    "duration": 567,
    "start_time": "2021-11-19T09:39:25.049Z"
   },
   {
    "duration": 558,
    "start_time": "2021-11-19T09:40:11.744Z"
   },
   {
    "duration": 515,
    "start_time": "2021-11-19T09:40:27.795Z"
   },
   {
    "duration": 559,
    "start_time": "2021-11-19T09:40:35.942Z"
   },
   {
    "duration": 574,
    "start_time": "2021-11-19T09:40:53.480Z"
   },
   {
    "duration": 523,
    "start_time": "2021-11-19T09:41:13.461Z"
   },
   {
    "duration": 517,
    "start_time": "2021-11-19T09:41:22.154Z"
   },
   {
    "duration": 519,
    "start_time": "2021-11-19T09:41:28.085Z"
   },
   {
    "duration": 746,
    "start_time": "2021-11-19T09:41:41.459Z"
   },
   {
    "duration": 691,
    "start_time": "2021-11-19T09:41:50.731Z"
   },
   {
    "duration": 623,
    "start_time": "2021-11-19T09:41:59.889Z"
   },
   {
    "duration": 31,
    "start_time": "2021-11-19T09:50:52.175Z"
   },
   {
    "duration": 115,
    "start_time": "2021-11-19T09:58:42.897Z"
   },
   {
    "duration": 406,
    "start_time": "2021-11-19T09:59:02.090Z"
   },
   {
    "duration": 116414,
    "start_time": "2021-11-19T09:59:29.795Z"
   },
   {
    "duration": 621,
    "start_time": "2021-11-19T10:01:49.212Z"
   },
   {
    "duration": 361,
    "start_time": "2021-11-19T10:02:32.786Z"
   },
   {
    "duration": 423,
    "start_time": "2021-11-19T10:03:02.519Z"
   },
   {
    "duration": 325,
    "start_time": "2021-11-19T10:06:23.902Z"
   },
   {
    "duration": 462,
    "start_time": "2021-11-19T10:06:55.636Z"
   },
   {
    "duration": 314,
    "start_time": "2021-11-19T10:07:12.847Z"
   },
   {
    "duration": 340,
    "start_time": "2021-11-19T10:07:21.265Z"
   },
   {
    "duration": 459,
    "start_time": "2021-11-19T10:07:27.076Z"
   },
   {
    "duration": 3621,
    "start_time": "2021-11-19T10:07:47.772Z"
   },
   {
    "duration": 985,
    "start_time": "2021-11-19T10:11:53.112Z"
   },
   {
    "duration": 623,
    "start_time": "2021-11-19T10:12:00.595Z"
   },
   {
    "duration": 886,
    "start_time": "2021-11-19T10:12:08.192Z"
   },
   {
    "duration": 792,
    "start_time": "2021-11-19T10:13:01.772Z"
   },
   {
    "duration": 598,
    "start_time": "2021-11-19T10:13:10.241Z"
   },
   {
    "duration": 397,
    "start_time": "2021-11-19T10:13:28.510Z"
   },
   {
    "duration": 336,
    "start_time": "2021-11-19T10:13:53.076Z"
   },
   {
    "duration": 721,
    "start_time": "2021-11-19T10:14:12.832Z"
   },
   {
    "duration": 109,
    "start_time": "2021-11-19T10:14:20.490Z"
   },
   {
    "duration": 110,
    "start_time": "2021-11-19T10:14:31.467Z"
   },
   {
    "duration": 578,
    "start_time": "2021-11-19T10:15:24.527Z"
   },
   {
    "duration": 32,
    "start_time": "2021-11-19T10:16:26.686Z"
   },
   {
    "duration": 699,
    "start_time": "2021-11-19T10:16:36.024Z"
   },
   {
    "duration": 665,
    "start_time": "2021-11-19T10:16:39.395Z"
   },
   {
    "duration": 655,
    "start_time": "2021-11-19T10:16:47.980Z"
   },
   {
    "duration": 704,
    "start_time": "2021-11-19T10:16:54.386Z"
   },
   {
    "duration": 365,
    "start_time": "2021-11-19T10:19:23.376Z"
   },
   {
    "duration": 1111,
    "start_time": "2021-11-19T10:19:30.128Z"
   },
   {
    "duration": 734,
    "start_time": "2021-11-19T10:20:02.141Z"
   },
   {
    "duration": 678,
    "start_time": "2021-11-19T10:21:15.082Z"
   },
   {
    "duration": 815,
    "start_time": "2021-11-19T10:21:28.247Z"
   },
   {
    "duration": 706,
    "start_time": "2021-11-19T10:21:48.411Z"
   },
   {
    "duration": 686,
    "start_time": "2021-11-19T10:22:04.442Z"
   },
   {
    "duration": 1157,
    "start_time": "2021-11-19T10:22:09.242Z"
   },
   {
    "duration": 798,
    "start_time": "2021-11-19T10:22:16.267Z"
   },
   {
    "duration": 593,
    "start_time": "2021-11-19T10:22:34.491Z"
   },
   {
    "duration": 710,
    "start_time": "2021-11-19T10:28:27.219Z"
   },
   {
    "duration": 604,
    "start_time": "2021-11-19T10:28:34.964Z"
   },
   {
    "duration": 668,
    "start_time": "2021-11-19T10:29:03.705Z"
   },
   {
    "duration": 592,
    "start_time": "2021-11-19T10:30:27.509Z"
   },
   {
    "duration": 587,
    "start_time": "2021-11-19T10:30:42.963Z"
   },
   {
    "duration": 697,
    "start_time": "2021-11-19T10:31:41.662Z"
   },
   {
    "duration": 810,
    "start_time": "2021-11-19T10:31:46.600Z"
   },
   {
    "duration": 598,
    "start_time": "2021-11-19T10:31:51.584Z"
   },
   {
    "duration": 8,
    "start_time": "2021-11-19T10:32:31.791Z"
   },
   {
    "duration": 9,
    "start_time": "2021-11-19T10:32:41.539Z"
   },
   {
    "duration": 9,
    "start_time": "2021-11-19T10:32:54.306Z"
   },
   {
    "duration": 617,
    "start_time": "2021-11-19T10:33:08.524Z"
   },
   {
    "duration": 589,
    "start_time": "2021-11-19T10:33:19.233Z"
   },
   {
    "duration": 610,
    "start_time": "2021-11-19T10:33:26.902Z"
   },
   {
    "duration": 609,
    "start_time": "2021-11-19T10:33:35.502Z"
   },
   {
    "duration": 767,
    "start_time": "2021-11-19T10:33:41.212Z"
   },
   {
    "duration": 591,
    "start_time": "2021-11-19T10:33:46.293Z"
   },
   {
    "duration": 592,
    "start_time": "2021-11-19T10:33:50.058Z"
   },
   {
    "duration": 664,
    "start_time": "2021-11-19T10:33:54.895Z"
   },
   {
    "duration": 643,
    "start_time": "2021-11-19T10:34:01.905Z"
   },
   {
    "duration": 754,
    "start_time": "2021-11-19T10:34:05.439Z"
   },
   {
    "duration": 719,
    "start_time": "2021-11-19T10:34:09.754Z"
   },
   {
    "duration": 727,
    "start_time": "2021-11-19T10:34:13.677Z"
   },
   {
    "duration": 638,
    "start_time": "2021-11-19T10:34:20.217Z"
   },
   {
    "duration": 610,
    "start_time": "2021-11-19T10:35:35.297Z"
   },
   {
    "duration": 591,
    "start_time": "2021-11-19T10:35:40.937Z"
   },
   {
    "duration": 347,
    "start_time": "2021-11-19T10:56:17.283Z"
   },
   {
    "duration": 5,
    "start_time": "2021-11-19T10:56:23.744Z"
   },
   {
    "duration": 696,
    "start_time": "2021-11-19T10:57:43.234Z"
   },
   {
    "duration": 934,
    "start_time": "2021-11-19T11:02:36.096Z"
   },
   {
    "duration": 925,
    "start_time": "2021-11-19T11:03:00.661Z"
   },
   {
    "duration": 923,
    "start_time": "2021-11-19T11:03:14.553Z"
   },
   {
    "duration": 898,
    "start_time": "2021-11-19T11:03:45.295Z"
   },
   {
    "duration": 532,
    "start_time": "2021-11-19T11:04:36.713Z"
   },
   {
    "duration": 569,
    "start_time": "2021-11-19T11:04:42.999Z"
   },
   {
    "duration": 671,
    "start_time": "2021-11-19T11:05:00.219Z"
   },
   {
    "duration": 335,
    "start_time": "2021-11-19T11:05:22.610Z"
   },
   {
    "duration": 337,
    "start_time": "2021-11-19T11:05:40.826Z"
   },
   {
    "duration": 341,
    "start_time": "2021-11-19T11:05:47.097Z"
   },
   {
    "duration": 7,
    "start_time": "2021-11-19T11:08:17.184Z"
   },
   {
    "duration": 871,
    "start_time": "2021-11-19T11:08:39.551Z"
   },
   {
    "duration": 1244,
    "start_time": "2021-11-19T11:08:50.990Z"
   },
   {
    "duration": 536,
    "start_time": "2021-11-19T11:08:59.182Z"
   },
   {
    "duration": 653,
    "start_time": "2021-11-19T11:10:41.837Z"
   },
   {
    "duration": 982,
    "start_time": "2021-11-19T11:10:59.494Z"
   },
   {
    "duration": 607,
    "start_time": "2021-11-19T11:11:12.506Z"
   },
   {
    "duration": 557,
    "start_time": "2021-11-19T11:11:18.413Z"
   },
   {
    "duration": 549,
    "start_time": "2021-11-19T11:11:34.389Z"
   },
   {
    "duration": 820,
    "start_time": "2021-11-19T11:11:45.981Z"
   },
   {
    "duration": 642,
    "start_time": "2021-11-19T11:12:03.160Z"
   },
   {
    "duration": 524,
    "start_time": "2021-11-19T11:12:15.540Z"
   },
   {
    "duration": 670,
    "start_time": "2021-11-19T11:12:26.791Z"
   },
   {
    "duration": 862,
    "start_time": "2021-11-19T11:13:37.970Z"
   },
   {
    "duration": 1503,
    "start_time": "2021-11-19T11:13:46.662Z"
   },
   {
    "duration": 712,
    "start_time": "2021-11-19T11:13:50.681Z"
   },
   {
    "duration": 745,
    "start_time": "2021-11-19T11:14:05.201Z"
   },
   {
    "duration": 601,
    "start_time": "2021-11-19T11:14:13.393Z"
   },
   {
    "duration": 620,
    "start_time": "2021-11-19T11:14:27.868Z"
   },
   {
    "duration": 576,
    "start_time": "2021-11-19T11:14:31.538Z"
   },
   {
    "duration": 567,
    "start_time": "2021-11-19T11:14:37.241Z"
   },
   {
    "duration": 679,
    "start_time": "2021-11-19T11:14:41.842Z"
   },
   {
    "duration": 623,
    "start_time": "2021-11-19T11:14:47.113Z"
   },
   {
    "duration": 617,
    "start_time": "2021-11-19T11:14:55.468Z"
   },
   {
    "duration": 896,
    "start_time": "2021-11-19T11:16:35.733Z"
   },
   {
    "duration": 741,
    "start_time": "2021-11-19T11:16:43.548Z"
   },
   {
    "duration": 734,
    "start_time": "2021-11-19T11:18:00.465Z"
   },
   {
    "duration": 679,
    "start_time": "2021-11-19T11:18:23.434Z"
   },
   {
    "duration": 738,
    "start_time": "2021-11-19T11:18:47.539Z"
   },
   {
    "duration": 697,
    "start_time": "2021-11-19T11:18:59.402Z"
   },
   {
    "duration": 700,
    "start_time": "2021-11-19T11:19:10.497Z"
   },
   {
    "duration": 810,
    "start_time": "2021-11-19T11:19:18.506Z"
   },
   {
    "duration": 768,
    "start_time": "2021-11-19T11:19:22.653Z"
   },
   {
    "duration": 902,
    "start_time": "2021-11-19T11:19:36.899Z"
   },
   {
    "duration": 750,
    "start_time": "2021-11-19T11:20:27.441Z"
   },
   {
    "duration": 638,
    "start_time": "2021-11-19T11:20:57.289Z"
   },
   {
    "duration": 619,
    "start_time": "2021-11-19T11:21:02.514Z"
   },
   {
    "duration": 637,
    "start_time": "2021-11-19T11:21:06.003Z"
   },
   {
    "duration": 600,
    "start_time": "2021-11-19T11:21:14.536Z"
   },
   {
    "duration": 574,
    "start_time": "2021-11-19T11:21:38.634Z"
   },
   {
    "duration": 584,
    "start_time": "2021-11-19T11:21:43.834Z"
   },
   {
    "duration": 614,
    "start_time": "2021-11-19T11:21:48.304Z"
   },
   {
    "duration": 662,
    "start_time": "2021-11-19T11:21:56.870Z"
   },
   {
    "duration": 97,
    "start_time": "2021-11-19T11:22:17.865Z"
   },
   {
    "duration": 614,
    "start_time": "2021-11-19T11:22:25.414Z"
   },
   {
    "duration": 737,
    "start_time": "2021-11-19T11:22:37.623Z"
   },
   {
    "duration": 587,
    "start_time": "2021-11-19T11:22:47.340Z"
   },
   {
    "duration": 595,
    "start_time": "2021-11-19T11:22:54.769Z"
   },
   {
    "duration": 723,
    "start_time": "2021-11-19T11:23:10.574Z"
   },
   {
    "duration": 674,
    "start_time": "2021-11-19T11:23:18.582Z"
   },
   {
    "duration": 623,
    "start_time": "2021-11-19T11:23:27.086Z"
   },
   {
    "duration": 639,
    "start_time": "2021-11-19T11:23:36.990Z"
   },
   {
    "duration": 662,
    "start_time": "2021-11-19T11:23:45.796Z"
   },
   {
    "duration": 628,
    "start_time": "2021-11-19T11:23:50.789Z"
   },
   {
    "duration": 600,
    "start_time": "2021-11-19T11:23:58.132Z"
   },
   {
    "duration": 920,
    "start_time": "2021-11-19T11:24:04.403Z"
   },
   {
    "duration": 597,
    "start_time": "2021-11-19T11:24:10.617Z"
   },
   {
    "duration": 714,
    "start_time": "2021-11-19T11:24:18.545Z"
   },
   {
    "duration": 640,
    "start_time": "2021-11-19T11:24:27.792Z"
   },
   {
    "duration": 34,
    "start_time": "2021-11-19T11:25:53.611Z"
   },
   {
    "duration": 7,
    "start_time": "2021-11-19T11:26:04.777Z"
   },
   {
    "duration": 7,
    "start_time": "2021-11-19T11:26:11.100Z"
   },
   {
    "duration": 111,
    "start_time": "2021-11-19T11:27:28.305Z"
   },
   {
    "duration": 297,
    "start_time": "2021-11-19T11:27:43.402Z"
   },
   {
    "duration": 10,
    "start_time": "2021-11-19T11:28:21.821Z"
   },
   {
    "duration": 7,
    "start_time": "2021-11-19T11:29:42.504Z"
   },
   {
    "duration": 7,
    "start_time": "2021-11-19T11:30:02.869Z"
   },
   {
    "duration": 99,
    "start_time": "2021-11-19T11:30:05.669Z"
   },
   {
    "duration": 116,
    "start_time": "2021-11-19T11:30:10.635Z"
   },
   {
    "duration": 6,
    "start_time": "2021-11-19T11:31:03.233Z"
   },
   {
    "duration": 6,
    "start_time": "2021-11-19T11:31:10.286Z"
   },
   {
    "duration": 7,
    "start_time": "2021-11-19T11:31:47.630Z"
   },
   {
    "duration": 96,
    "start_time": "2021-11-19T11:32:00.528Z"
   },
   {
    "duration": 6,
    "start_time": "2021-11-19T11:32:23.100Z"
   },
   {
    "duration": 190,
    "start_time": "2021-11-19T11:32:38.905Z"
   },
   {
    "duration": 143,
    "start_time": "2021-11-19T11:32:43.442Z"
   },
   {
    "duration": 103,
    "start_time": "2021-11-19T11:32:51.582Z"
   },
   {
    "duration": 5,
    "start_time": "2021-11-19T11:32:54.986Z"
   },
   {
    "duration": 297,
    "start_time": "2021-11-19T11:33:28.496Z"
   },
   {
    "duration": 5,
    "start_time": "2021-11-19T11:35:29.368Z"
   },
   {
    "duration": 7,
    "start_time": "2021-11-19T11:35:50.347Z"
   },
   {
    "duration": 7,
    "start_time": "2021-11-19T11:36:02.861Z"
   },
   {
    "duration": 6,
    "start_time": "2021-11-19T11:36:17.896Z"
   },
   {
    "duration": 7,
    "start_time": "2021-11-19T11:36:21.142Z"
   },
   {
    "duration": 7,
    "start_time": "2021-11-19T11:36:31.094Z"
   },
   {
    "duration": 6,
    "start_time": "2021-11-19T11:38:44.420Z"
   },
   {
    "duration": 884,
    "start_time": "2021-11-19T11:55:22.955Z"
   },
   {
    "duration": 992,
    "start_time": "2021-11-19T11:55:29.193Z"
   },
   {
    "duration": 630,
    "start_time": "2021-11-19T11:55:43.055Z"
   },
   {
    "duration": 332,
    "start_time": "2021-11-19T12:01:48.466Z"
   },
   {
    "duration": 385,
    "start_time": "2021-11-19T12:01:54.491Z"
   },
   {
    "duration": 9,
    "start_time": "2021-11-19T14:57:59.606Z"
   },
   {
    "duration": 16,
    "start_time": "2021-11-19T14:58:17.438Z"
   },
   {
    "duration": 458,
    "start_time": "2021-11-19T15:15:06.688Z"
   },
   {
    "duration": 611,
    "start_time": "2021-11-19T15:15:12.671Z"
   },
   {
    "duration": 363,
    "start_time": "2021-11-19T15:15:20.294Z"
   },
   {
    "duration": 388,
    "start_time": "2021-11-19T15:16:08.148Z"
   },
   {
    "duration": 694,
    "start_time": "2021-11-19T15:16:59.726Z"
   },
   {
    "duration": 397,
    "start_time": "2021-11-19T15:17:23.661Z"
   },
   {
    "duration": 7,
    "start_time": "2021-11-19T15:20:24.922Z"
   },
   {
    "duration": 447,
    "start_time": "2021-11-19T15:20:25.317Z"
   },
   {
    "duration": 9,
    "start_time": "2021-11-19T15:20:38.849Z"
   },
   {
    "duration": 526,
    "start_time": "2021-11-19T15:20:46.806Z"
   },
   {
    "duration": 102,
    "start_time": "2021-11-19T15:22:53.244Z"
   },
   {
    "duration": 718,
    "start_time": "2021-11-19T15:22:53.696Z"
   },
   {
    "duration": 17,
    "start_time": "2021-11-19T15:22:59.702Z"
   },
   {
    "duration": 511,
    "start_time": "2021-11-19T15:23:00.069Z"
   },
   {
    "duration": 381,
    "start_time": "2021-11-19T15:25:55.913Z"
   },
   {
    "duration": 367,
    "start_time": "2021-11-19T15:26:37.098Z"
   },
   {
    "duration": 336,
    "start_time": "2021-11-19T15:26:49.199Z"
   },
   {
    "duration": 319,
    "start_time": "2021-11-19T15:26:57.559Z"
   },
   {
    "duration": 357,
    "start_time": "2021-11-19T15:27:14.599Z"
   },
   {
    "duration": 735,
    "start_time": "2021-11-19T15:28:34.939Z"
   },
   {
    "duration": 922,
    "start_time": "2021-11-19T15:28:42.141Z"
   },
   {
    "duration": 695,
    "start_time": "2021-11-19T15:28:52.815Z"
   },
   {
    "duration": 909,
    "start_time": "2021-11-19T15:29:01.509Z"
   },
   {
    "duration": 689,
    "start_time": "2021-11-19T15:29:13.066Z"
   },
   {
    "duration": 670,
    "start_time": "2021-11-19T15:30:04.004Z"
   },
   {
    "duration": 393,
    "start_time": "2021-11-19T15:30:27.327Z"
   },
   {
    "duration": 420,
    "start_time": "2021-11-19T15:31:05.544Z"
   },
   {
    "duration": 474,
    "start_time": "2021-11-19T15:31:20.655Z"
   },
   {
    "duration": 355,
    "start_time": "2021-11-19T15:33:47.609Z"
   },
   {
    "duration": 391,
    "start_time": "2021-11-19T15:34:44.055Z"
   },
   {
    "duration": 26,
    "start_time": "2021-11-19T15:36:10.272Z"
   },
   {
    "duration": 362,
    "start_time": "2021-11-19T15:36:17.407Z"
   },
   {
    "duration": 26,
    "start_time": "2021-11-19T15:36:24.586Z"
   },
   {
    "duration": 619,
    "start_time": "2021-11-19T15:36:26.289Z"
   },
   {
    "duration": 14,
    "start_time": "2021-11-19T15:37:33.749Z"
   },
   {
    "duration": 348,
    "start_time": "2021-11-19T15:37:34.118Z"
   },
   {
    "duration": 8,
    "start_time": "2021-11-19T15:42:41.090Z"
   },
   {
    "duration": 10,
    "start_time": "2021-11-19T15:43:58.885Z"
   },
   {
    "duration": 6,
    "start_time": "2021-11-19T15:44:28.355Z"
   },
   {
    "duration": 966,
    "start_time": "2021-11-19T15:49:53.886Z"
   },
   {
    "duration": 362,
    "start_time": "2021-11-19T16:03:34.565Z"
   },
   {
    "duration": 350,
    "start_time": "2021-11-19T16:04:10.761Z"
   },
   {
    "duration": 375,
    "start_time": "2021-11-19T16:05:01.655Z"
   },
   {
    "duration": 472,
    "start_time": "2021-11-19T16:07:44.199Z"
   },
   {
    "duration": 237,
    "start_time": "2021-11-20T08:50:04.788Z"
   },
   {
    "duration": 458,
    "start_time": "2021-11-20T09:13:02.343Z"
   },
   {
    "duration": 1408,
    "start_time": "2021-11-20T09:13:08.310Z"
   },
   {
    "duration": 50,
    "start_time": "2021-11-20T09:13:09.721Z"
   },
   {
    "duration": 28,
    "start_time": "2021-11-20T09:13:09.774Z"
   },
   {
    "duration": 23,
    "start_time": "2021-11-20T09:13:09.806Z"
   },
   {
    "duration": 40,
    "start_time": "2021-11-20T09:13:09.832Z"
   },
   {
    "duration": 102,
    "start_time": "2021-11-20T09:13:09.875Z"
   },
   {
    "duration": 7,
    "start_time": "2021-11-20T09:13:09.981Z"
   },
   {
    "duration": 797,
    "start_time": "2021-11-20T09:13:09.992Z"
   },
   {
    "duration": 12,
    "start_time": "2021-11-20T09:13:10.793Z"
   },
   {
    "duration": 237,
    "start_time": "2021-11-20T09:13:10.807Z"
   },
   {
    "duration": 5,
    "start_time": "2021-11-20T09:13:11.046Z"
   },
   {
    "duration": 8168,
    "start_time": "2021-11-20T09:13:11.060Z"
   },
   {
    "duration": 12,
    "start_time": "2021-11-20T09:13:19.231Z"
   },
   {
    "duration": 8319,
    "start_time": "2021-11-20T09:13:19.259Z"
   },
   {
    "duration": 15604,
    "start_time": "2021-11-20T09:13:27.580Z"
   },
   {
    "duration": 26,
    "start_time": "2021-11-20T09:13:43.187Z"
   },
   {
    "duration": 6,
    "start_time": "2021-11-20T09:13:43.215Z"
   },
   {
    "duration": 35,
    "start_time": "2021-11-20T09:13:43.224Z"
   },
   {
    "duration": 325,
    "start_time": "2021-11-20T09:13:43.264Z"
   },
   {
    "duration": 624,
    "start_time": "2021-11-20T09:13:43.592Z"
   },
   {
    "duration": 917,
    "start_time": "2021-11-20T09:13:44.218Z"
   },
   {
    "duration": 6,
    "start_time": "2021-11-20T09:13:45.137Z"
   },
   {
    "duration": 392,
    "start_time": "2021-11-20T09:13:45.167Z"
   },
   {
    "duration": 692,
    "start_time": "2021-11-20T09:13:45.561Z"
   },
   {
    "duration": 627,
    "start_time": "2021-11-20T09:13:46.256Z"
   },
   {
    "duration": 604,
    "start_time": "2021-11-20T09:13:46.886Z"
   },
   {
    "duration": 699,
    "start_time": "2021-11-20T09:13:47.492Z"
   },
   {
    "duration": 6,
    "start_time": "2021-11-20T09:13:48.194Z"
   },
   {
    "duration": 789,
    "start_time": "2021-11-20T09:13:48.203Z"
   },
   {
    "duration": 345,
    "start_time": "2021-11-20T09:13:48.996Z"
   },
   {
    "duration": 995,
    "start_time": "2021-11-20T09:13:49.343Z"
   },
   {
    "duration": 401,
    "start_time": "2021-11-20T09:14:07.232Z"
   },
   {
    "duration": 10044,
    "start_time": "2021-11-20T09:14:29.660Z"
   },
   {
    "duration": 399,
    "start_time": "2021-11-20T09:15:03.775Z"
   },
   {
    "duration": 322,
    "start_time": "2021-11-20T09:15:25.473Z"
   },
   {
    "duration": 351,
    "start_time": "2021-11-20T09:16:08.280Z"
   },
   {
    "duration": 229,
    "start_time": "2021-11-20T09:19:30.850Z"
   },
   {
    "duration": 174,
    "start_time": "2021-11-20T09:21:40.125Z"
   },
   {
    "duration": 684,
    "start_time": "2021-11-20T09:22:30.555Z"
   },
   {
    "duration": 179,
    "start_time": "2021-11-20T09:22:45.529Z"
   },
   {
    "duration": 267,
    "start_time": "2021-11-20T09:23:24.409Z"
   },
   {
    "duration": 678,
    "start_time": "2021-11-20T09:24:00.853Z"
   },
   {
    "duration": 178,
    "start_time": "2021-11-20T09:24:11.220Z"
   },
   {
    "duration": 406,
    "start_time": "2021-11-20T09:24:39.277Z"
   },
   {
    "duration": 175,
    "start_time": "2021-11-20T09:24:49.593Z"
   },
   {
    "duration": 178,
    "start_time": "2021-11-20T09:25:02.573Z"
   },
   {
    "duration": 183,
    "start_time": "2021-11-20T09:25:06.779Z"
   },
   {
    "duration": 447,
    "start_time": "2021-11-20T09:25:14.071Z"
   },
   {
    "duration": 183,
    "start_time": "2021-11-20T09:25:30.814Z"
   },
   {
    "duration": 136,
    "start_time": "2021-11-20T09:26:34.310Z"
   },
   {
    "duration": 132,
    "start_time": "2021-11-20T09:30:49.599Z"
   },
   {
    "duration": 697,
    "start_time": "2021-11-20T09:31:38.382Z"
   },
   {
    "duration": 409,
    "start_time": "2021-11-20T09:32:18.410Z"
   },
   {
    "duration": 470,
    "start_time": "2021-11-20T09:32:47.379Z"
   },
   {
    "duration": 636,
    "start_time": "2021-11-20T09:32:57.249Z"
   },
   {
    "duration": 152,
    "start_time": "2021-11-20T09:33:36.260Z"
   },
   {
    "duration": 613,
    "start_time": "2021-11-20T09:33:43.824Z"
   },
   {
    "duration": 209,
    "start_time": "2021-11-20T09:33:55.320Z"
   },
   {
    "duration": 638,
    "start_time": "2021-11-20T09:34:56.926Z"
   },
   {
    "duration": 241,
    "start_time": "2021-11-20T09:35:20.989Z"
   },
   {
    "duration": 138,
    "start_time": "2021-11-20T09:35:36.189Z"
   },
   {
    "duration": 463,
    "start_time": "2021-11-20T09:38:11.049Z"
   },
   {
    "duration": 404,
    "start_time": "2021-11-20T09:38:51.317Z"
   },
   {
    "duration": 398,
    "start_time": "2021-11-20T09:39:11.376Z"
   },
   {
    "duration": 391,
    "start_time": "2021-11-20T09:39:21.745Z"
   },
   {
    "duration": 610,
    "start_time": "2021-11-20T09:39:36.059Z"
   },
   {
    "duration": 392,
    "start_time": "2021-11-20T09:39:47.041Z"
   },
   {
    "duration": 379,
    "start_time": "2021-11-20T09:40:36.746Z"
   },
   {
    "duration": 310,
    "start_time": "2021-11-20T09:41:51.526Z"
   },
   {
    "duration": 428,
    "start_time": "2021-11-20T09:42:52.519Z"
   },
   {
    "duration": 666,
    "start_time": "2021-11-20T09:43:01.633Z"
   },
   {
    "duration": 76,
    "start_time": "2021-11-20T09:48:16.453Z"
   },
   {
    "duration": 78,
    "start_time": "2021-11-20T09:48:30.223Z"
   },
   {
    "duration": 72,
    "start_time": "2021-11-20T09:48:41.704Z"
   },
   {
    "duration": 413,
    "start_time": "2021-11-20T09:48:55.566Z"
   },
   {
    "duration": 407,
    "start_time": "2021-11-20T09:49:15.952Z"
   },
   {
    "duration": 402,
    "start_time": "2021-11-20T09:50:15.325Z"
   },
   {
    "duration": 866,
    "start_time": "2021-11-20T09:51:16.971Z"
   },
   {
    "duration": 391,
    "start_time": "2021-11-20T09:51:44.335Z"
   },
   {
    "duration": 408,
    "start_time": "2021-11-20T09:53:14.312Z"
   },
   {
    "duration": 458,
    "start_time": "2021-11-20T09:55:34.945Z"
   },
   {
    "duration": 383,
    "start_time": "2021-11-20T10:01:47.748Z"
   },
   {
    "duration": 369,
    "start_time": "2021-11-20T10:01:54.441Z"
   },
   {
    "duration": 487,
    "start_time": "2021-11-20T10:01:58.202Z"
   },
   {
    "duration": 411,
    "start_time": "2021-11-20T10:02:02.685Z"
   },
   {
    "duration": 433,
    "start_time": "2021-11-20T10:02:20.935Z"
   },
   {
    "duration": 339,
    "start_time": "2021-11-20T10:02:35.459Z"
   },
   {
    "duration": 319,
    "start_time": "2021-11-20T10:02:39.397Z"
   },
   {
    "duration": 349,
    "start_time": "2021-11-20T10:02:46.396Z"
   },
   {
    "duration": 341,
    "start_time": "2021-11-20T10:02:49.992Z"
   },
   {
    "duration": 401,
    "start_time": "2021-11-20T10:07:45.525Z"
   },
   {
    "duration": 380,
    "start_time": "2021-11-20T10:07:55.098Z"
   },
   {
    "duration": 435,
    "start_time": "2021-11-20T10:14:12.704Z"
   },
   {
    "duration": 35,
    "start_time": "2021-11-20T10:14:29.541Z"
   },
   {
    "duration": 32,
    "start_time": "2021-11-20T10:14:38.326Z"
   },
   {
    "duration": 31,
    "start_time": "2021-11-20T10:15:09.557Z"
   },
   {
    "duration": 31,
    "start_time": "2021-11-20T10:15:16.111Z"
   },
   {
    "duration": 30,
    "start_time": "2021-11-20T10:16:12.027Z"
   },
   {
    "duration": 28,
    "start_time": "2021-11-20T10:16:26.274Z"
   },
   {
    "duration": 358,
    "start_time": "2021-11-20T10:19:02.027Z"
   },
   {
    "duration": 537,
    "start_time": "2021-11-20T10:34:17.375Z"
   },
   {
    "duration": 351,
    "start_time": "2021-11-20T10:35:08.785Z"
   },
   {
    "duration": 452,
    "start_time": "2021-11-20T10:35:58.857Z"
   },
   {
    "duration": 1524,
    "start_time": "2021-11-20T10:36:07.894Z"
   },
   {
    "duration": 51,
    "start_time": "2021-11-20T10:36:09.421Z"
   },
   {
    "duration": 27,
    "start_time": "2021-11-20T10:36:09.476Z"
   },
   {
    "duration": 23,
    "start_time": "2021-11-20T10:36:09.506Z"
   },
   {
    "duration": 37,
    "start_time": "2021-11-20T10:36:09.532Z"
   },
   {
    "duration": 99,
    "start_time": "2021-11-20T10:36:09.571Z"
   },
   {
    "duration": 6,
    "start_time": "2021-11-20T10:36:09.674Z"
   },
   {
    "duration": 735,
    "start_time": "2021-11-20T10:36:09.684Z"
   },
   {
    "duration": 12,
    "start_time": "2021-11-20T10:36:10.422Z"
   },
   {
    "duration": 247,
    "start_time": "2021-11-20T10:36:10.437Z"
   },
   {
    "duration": 5,
    "start_time": "2021-11-20T10:36:10.687Z"
   },
   {
    "duration": 8365,
    "start_time": "2021-11-20T10:36:10.695Z"
   },
   {
    "duration": 18,
    "start_time": "2021-11-20T10:36:19.064Z"
   },
   {
    "duration": 8639,
    "start_time": "2021-11-20T10:36:19.085Z"
   },
   {
    "duration": 15766,
    "start_time": "2021-11-20T10:36:27.726Z"
   },
   {
    "duration": 25,
    "start_time": "2021-11-20T10:36:43.494Z"
   },
   {
    "duration": 6,
    "start_time": "2021-11-20T10:36:43.521Z"
   },
   {
    "duration": 34,
    "start_time": "2021-11-20T10:36:43.530Z"
   },
   {
    "duration": 328,
    "start_time": "2021-11-20T10:36:43.567Z"
   },
   {
    "duration": 615,
    "start_time": "2021-11-20T10:36:43.897Z"
   },
   {
    "duration": 903,
    "start_time": "2021-11-20T10:36:44.514Z"
   },
   {
    "duration": 5,
    "start_time": "2021-11-20T10:36:45.420Z"
   },
   {
    "duration": 411,
    "start_time": "2021-11-20T10:36:45.431Z"
   },
   {
    "duration": 634,
    "start_time": "2021-11-20T10:36:45.845Z"
   },
   {
    "duration": 716,
    "start_time": "2021-11-20T10:36:46.481Z"
   },
   {
    "duration": 608,
    "start_time": "2021-11-20T10:36:47.199Z"
   },
   {
    "duration": 595,
    "start_time": "2021-11-20T10:36:47.809Z"
   },
   {
    "duration": 8,
    "start_time": "2021-11-20T10:36:48.406Z"
   },
   {
    "duration": 771,
    "start_time": "2021-11-20T10:36:48.417Z"
   },
   {
    "duration": 317,
    "start_time": "2021-11-20T10:36:49.191Z"
   },
   {
    "duration": 371,
    "start_time": "2021-11-20T10:36:49.510Z"
   },
   {
    "duration": 639,
    "start_time": "2021-11-20T10:36:49.884Z"
   },
   {
    "duration": 123,
    "start_time": "2021-11-20T10:37:10.114Z"
   },
   {
    "duration": 354,
    "start_time": "2021-11-20T10:39:10.166Z"
   },
   {
    "duration": 698,
    "start_time": "2021-11-20T10:54:02.168Z"
   },
   {
    "duration": 122,
    "start_time": "2021-11-20T10:54:17.006Z"
   },
   {
    "duration": 470,
    "start_time": "2021-11-20T10:54:53.944Z"
   },
   {
    "duration": 695,
    "start_time": "2021-11-20T10:56:30.028Z"
   },
   {
    "duration": 193,
    "start_time": "2021-11-20T10:57:14.222Z"
   },
   {
    "duration": 123,
    "start_time": "2021-11-20T10:58:12.143Z"
   },
   {
    "duration": 376,
    "start_time": "2021-11-20T10:58:41.905Z"
   },
   {
    "duration": 8,
    "start_time": "2021-11-20T10:58:48.420Z"
   },
   {
    "duration": 8,
    "start_time": "2021-11-20T10:58:55.632Z"
   },
   {
    "duration": 7,
    "start_time": "2021-11-20T10:59:03.332Z"
   },
   {
    "duration": 206,
    "start_time": "2021-11-20T12:54:24.610Z"
   },
   {
    "duration": 979,
    "start_time": "2021-11-20T12:54:33.488Z"
   },
   {
    "duration": 36,
    "start_time": "2021-11-20T12:54:34.469Z"
   },
   {
    "duration": 19,
    "start_time": "2021-11-20T12:54:34.507Z"
   },
   {
    "duration": 20,
    "start_time": "2021-11-20T12:54:34.527Z"
   },
   {
    "duration": 42,
    "start_time": "2021-11-20T12:54:34.548Z"
   },
   {
    "duration": 66,
    "start_time": "2021-11-20T12:54:34.592Z"
   },
   {
    "duration": 4,
    "start_time": "2021-11-20T12:54:34.659Z"
   },
   {
    "duration": 278,
    "start_time": "2021-11-20T12:54:34.665Z"
   },
   {
    "duration": 9,
    "start_time": "2021-11-20T12:54:34.945Z"
   },
   {
    "duration": 156,
    "start_time": "2021-11-20T12:54:34.956Z"
   },
   {
    "duration": 4,
    "start_time": "2021-11-20T12:54:35.114Z"
   },
   {
    "duration": 4204,
    "start_time": "2021-11-20T12:54:35.119Z"
   },
   {
    "duration": 8,
    "start_time": "2021-11-20T12:54:39.325Z"
   },
   {
    "duration": 4673,
    "start_time": "2021-11-20T12:54:39.335Z"
   },
   {
    "duration": 8910,
    "start_time": "2021-11-20T12:54:44.010Z"
   },
   {
    "duration": 17,
    "start_time": "2021-11-20T12:54:52.922Z"
   },
   {
    "duration": 13,
    "start_time": "2021-11-20T12:54:52.941Z"
   },
   {
    "duration": 20,
    "start_time": "2021-11-20T12:54:52.955Z"
   },
   {
    "duration": 202,
    "start_time": "2021-11-20T12:54:52.976Z"
   },
   {
    "duration": 321,
    "start_time": "2021-11-20T12:54:53.180Z"
   },
   {
    "duration": 537,
    "start_time": "2021-11-20T12:54:53.503Z"
   },
   {
    "duration": 5,
    "start_time": "2021-11-20T12:54:54.042Z"
   },
   {
    "duration": 245,
    "start_time": "2021-11-20T12:54:54.048Z"
   },
   {
    "duration": 373,
    "start_time": "2021-11-20T12:54:54.295Z"
   },
   {
    "duration": 350,
    "start_time": "2021-11-20T12:54:54.670Z"
   },
   {
    "duration": 352,
    "start_time": "2021-11-20T12:54:55.021Z"
   },
   {
    "duration": 395,
    "start_time": "2021-11-20T12:54:55.376Z"
   },
   {
    "duration": 5,
    "start_time": "2021-11-20T12:54:55.773Z"
   },
   {
    "duration": 483,
    "start_time": "2021-11-20T12:54:55.791Z"
   },
   {
    "duration": 185,
    "start_time": "2021-11-20T12:54:56.275Z"
   },
   {
    "duration": 210,
    "start_time": "2021-11-20T12:54:56.462Z"
   },
   {
    "duration": 238,
    "start_time": "2021-11-20T12:54:56.673Z"
   },
   {
    "duration": 6,
    "start_time": "2021-11-20T12:54:56.912Z"
   },
   {
    "duration": 202,
    "start_time": "2021-11-20T12:54:56.920Z"
   },
   {
    "duration": 2,
    "start_time": "2021-11-20T13:11:49.307Z"
   },
   {
    "duration": 11,
    "start_time": "2021-11-20T13:18:20.617Z"
   },
   {
    "duration": 12,
    "start_time": "2021-11-20T13:23:00.180Z"
   },
   {
    "duration": 13,
    "start_time": "2021-11-20T13:27:36.578Z"
   },
   {
    "duration": 14,
    "start_time": "2021-11-20T13:27:43.991Z"
   },
   {
    "duration": 12,
    "start_time": "2021-11-20T13:28:00.632Z"
   },
   {
    "duration": 11,
    "start_time": "2021-11-20T13:28:14.576Z"
   },
   {
    "duration": 11,
    "start_time": "2021-11-20T13:29:00.606Z"
   },
   {
    "duration": 11,
    "start_time": "2021-11-20T13:29:05.943Z"
   },
   {
    "duration": 12,
    "start_time": "2021-11-20T13:29:15.990Z"
   },
   {
    "duration": 13,
    "start_time": "2021-11-20T13:29:23.303Z"
   },
   {
    "duration": 978,
    "start_time": "2021-11-20T13:32:33.581Z"
   },
   {
    "duration": 36,
    "start_time": "2021-11-20T13:32:34.561Z"
   },
   {
    "duration": 16,
    "start_time": "2021-11-20T13:32:34.598Z"
   },
   {
    "duration": 15,
    "start_time": "2021-11-20T13:32:34.615Z"
   },
   {
    "duration": 11,
    "start_time": "2021-11-20T13:32:34.632Z"
   },
   {
    "duration": 63,
    "start_time": "2021-11-20T13:32:34.645Z"
   },
   {
    "duration": 4,
    "start_time": "2021-11-20T13:32:34.709Z"
   },
   {
    "duration": 258,
    "start_time": "2021-11-20T13:32:34.716Z"
   },
   {
    "duration": 7,
    "start_time": "2021-11-20T13:32:34.976Z"
   },
   {
    "duration": 133,
    "start_time": "2021-11-20T13:32:34.984Z"
   },
   {
    "duration": 3,
    "start_time": "2021-11-20T13:32:35.119Z"
   },
   {
    "duration": 4188,
    "start_time": "2021-11-20T13:32:35.124Z"
   },
   {
    "duration": 8,
    "start_time": "2021-11-20T13:32:39.313Z"
   },
   {
    "duration": 4306,
    "start_time": "2021-11-20T13:32:39.323Z"
   },
   {
    "duration": 8841,
    "start_time": "2021-11-20T13:32:43.631Z"
   },
   {
    "duration": 22,
    "start_time": "2021-11-20T13:32:52.474Z"
   },
   {
    "duration": 5,
    "start_time": "2021-11-20T13:32:52.497Z"
   },
   {
    "duration": 7,
    "start_time": "2021-11-20T13:32:52.503Z"
   },
   {
    "duration": 200,
    "start_time": "2021-11-20T13:32:52.511Z"
   },
   {
    "duration": 323,
    "start_time": "2021-11-20T13:32:52.713Z"
   },
   {
    "duration": 526,
    "start_time": "2021-11-20T13:32:53.037Z"
   },
   {
    "duration": 4,
    "start_time": "2021-11-20T13:32:53.564Z"
   },
   {
    "duration": 237,
    "start_time": "2021-11-20T13:32:53.571Z"
   },
   {
    "duration": 370,
    "start_time": "2021-11-20T13:32:53.810Z"
   },
   {
    "duration": 374,
    "start_time": "2021-11-20T13:32:54.181Z"
   },
   {
    "duration": 375,
    "start_time": "2021-11-20T13:32:54.556Z"
   },
   {
    "duration": 530,
    "start_time": "2021-11-20T13:32:54.933Z"
   },
   {
    "duration": 5,
    "start_time": "2021-11-20T13:32:55.464Z"
   },
   {
    "duration": 422,
    "start_time": "2021-11-20T13:32:55.471Z"
   },
   {
    "duration": 198,
    "start_time": "2021-11-20T13:32:55.895Z"
   },
   {
    "duration": 222,
    "start_time": "2021-11-20T13:32:56.094Z"
   },
   {
    "duration": 219,
    "start_time": "2021-11-20T13:32:56.317Z"
   },
   {
    "duration": 5,
    "start_time": "2021-11-20T13:32:56.538Z"
   },
   {
    "duration": 198,
    "start_time": "2021-11-20T13:32:56.545Z"
   },
   {
    "duration": 11,
    "start_time": "2021-11-20T13:32:56.744Z"
   },
   {
    "duration": 15,
    "start_time": "2021-11-20T13:32:56.756Z"
   },
   {
    "duration": 328,
    "start_time": "2021-11-23T17:12:41.747Z"
   },
   {
    "duration": 1060,
    "start_time": "2021-11-23T17:12:50.974Z"
   },
   {
    "duration": 36,
    "start_time": "2021-11-23T17:12:52.036Z"
   },
   {
    "duration": 16,
    "start_time": "2021-11-23T17:12:52.074Z"
   },
   {
    "duration": 15,
    "start_time": "2021-11-23T17:12:52.092Z"
   },
   {
    "duration": 9,
    "start_time": "2021-11-23T17:12:52.109Z"
   },
   {
    "duration": 72,
    "start_time": "2021-11-23T17:12:52.119Z"
   },
   {
    "duration": 4,
    "start_time": "2021-11-23T17:12:52.193Z"
   },
   {
    "duration": 1031,
    "start_time": "2021-11-23T17:12:52.200Z"
   },
   {
    "duration": 7,
    "start_time": "2021-11-23T17:12:53.234Z"
   },
   {
    "duration": 126,
    "start_time": "2021-11-23T17:12:53.243Z"
   },
   {
    "duration": 3,
    "start_time": "2021-11-23T17:12:53.371Z"
   },
   {
    "duration": 4353,
    "start_time": "2021-11-23T17:12:53.376Z"
   },
   {
    "duration": 14,
    "start_time": "2021-11-23T17:12:57.731Z"
   },
   {
    "duration": 4401,
    "start_time": "2021-11-23T17:12:57.746Z"
   },
   {
    "duration": 8837,
    "start_time": "2021-11-23T17:13:02.149Z"
   },
   {
    "duration": 17,
    "start_time": "2021-11-23T17:13:10.988Z"
   },
   {
    "duration": 4,
    "start_time": "2021-11-23T17:13:11.007Z"
   },
   {
    "duration": 6,
    "start_time": "2021-11-23T17:13:11.012Z"
   },
   {
    "duration": 184,
    "start_time": "2021-11-23T17:13:11.020Z"
   },
   {
    "duration": 317,
    "start_time": "2021-11-23T17:13:11.205Z"
   },
   {
    "duration": 510,
    "start_time": "2021-11-23T17:13:11.524Z"
   },
   {
    "duration": 11,
    "start_time": "2021-11-23T17:13:12.036Z"
   },
   {
    "duration": 227,
    "start_time": "2021-11-23T17:13:12.050Z"
   },
   {
    "duration": 340,
    "start_time": "2021-11-23T17:13:12.279Z"
   },
   {
    "duration": 335,
    "start_time": "2021-11-23T17:13:12.621Z"
   },
   {
    "duration": 339,
    "start_time": "2021-11-23T17:13:12.958Z"
   },
   {
    "duration": 522,
    "start_time": "2021-11-23T17:13:13.298Z"
   },
   {
    "duration": 5,
    "start_time": "2021-11-23T17:13:13.821Z"
   },
   {
    "duration": 490,
    "start_time": "2021-11-23T17:13:13.828Z"
   },
   {
    "duration": 183,
    "start_time": "2021-11-23T17:13:14.319Z"
   },
   {
    "duration": 205,
    "start_time": "2021-11-23T17:13:14.504Z"
   },
   {
    "duration": 207,
    "start_time": "2021-11-23T17:13:14.711Z"
   },
   {
    "duration": 5,
    "start_time": "2021-11-23T17:13:14.920Z"
   },
   {
    "duration": 187,
    "start_time": "2021-11-23T17:13:14.927Z"
   },
   {
    "duration": 11,
    "start_time": "2021-11-23T17:13:15.115Z"
   },
   {
    "duration": 26,
    "start_time": "2021-11-23T17:13:15.127Z"
   },
   {
    "duration": 663,
    "start_time": "2021-11-23T17:13:15.155Z"
   },
   {
    "duration": 701,
    "start_time": "2021-11-23T17:24:32.884Z"
   },
   {
    "duration": 235,
    "start_time": "2021-11-23T17:32:31.850Z"
   },
   {
    "duration": 4681,
    "start_time": "2021-11-23T18:18:40.230Z"
   },
   {
    "duration": 1098,
    "start_time": "2021-11-23T20:10:39.417Z"
   },
   {
    "duration": 36,
    "start_time": "2021-11-23T20:10:40.517Z"
   },
   {
    "duration": 16,
    "start_time": "2021-11-23T20:10:40.555Z"
   },
   {
    "duration": 14,
    "start_time": "2021-11-23T20:10:40.573Z"
   },
   {
    "duration": 8,
    "start_time": "2021-11-23T20:10:40.589Z"
   },
   {
    "duration": 66,
    "start_time": "2021-11-23T20:10:40.599Z"
   },
   {
    "duration": 4,
    "start_time": "2021-11-23T20:10:40.666Z"
   },
   {
    "duration": 476,
    "start_time": "2021-11-23T20:10:40.672Z"
   },
   {
    "duration": 8,
    "start_time": "2021-11-23T20:10:41.151Z"
   },
   {
    "duration": 121,
    "start_time": "2021-11-23T20:10:41.161Z"
   },
   {
    "duration": 5,
    "start_time": "2021-11-23T20:10:41.283Z"
   },
   {
    "duration": 4510,
    "start_time": "2021-11-23T20:10:41.289Z"
   },
   {
    "duration": 9,
    "start_time": "2021-11-23T20:10:45.800Z"
   },
   {
    "duration": 4411,
    "start_time": "2021-11-23T20:10:45.811Z"
   },
   {
    "duration": 8882,
    "start_time": "2021-11-23T20:10:50.224Z"
   },
   {
    "duration": 17,
    "start_time": "2021-11-23T20:10:59.107Z"
   },
   {
    "duration": 4,
    "start_time": "2021-11-23T20:10:59.126Z"
   },
   {
    "duration": 16,
    "start_time": "2021-11-23T20:10:59.131Z"
   },
   {
    "duration": 183,
    "start_time": "2021-11-23T20:10:59.148Z"
   },
   {
    "duration": 318,
    "start_time": "2021-11-23T20:10:59.333Z"
   },
   {
    "duration": 513,
    "start_time": "2021-11-23T20:10:59.652Z"
   },
   {
    "duration": 4,
    "start_time": "2021-11-23T20:11:00.167Z"
   },
   {
    "duration": 224,
    "start_time": "2021-11-23T20:11:00.173Z"
   },
   {
    "duration": 348,
    "start_time": "2021-11-23T20:11:00.398Z"
   },
   {
    "duration": 338,
    "start_time": "2021-11-23T20:11:00.747Z"
   },
   {
    "duration": 350,
    "start_time": "2021-11-23T20:11:01.086Z"
   },
   {
    "duration": 471,
    "start_time": "2021-11-23T20:11:01.444Z"
   },
   {
    "duration": 5,
    "start_time": "2021-11-23T20:11:01.917Z"
   },
   {
    "duration": 487,
    "start_time": "2021-11-23T20:11:01.923Z"
   },
   {
    "duration": 180,
    "start_time": "2021-11-23T20:11:02.412Z"
   },
   {
    "duration": 215,
    "start_time": "2021-11-23T20:11:02.594Z"
   },
   {
    "duration": 214,
    "start_time": "2021-11-23T20:11:02.811Z"
   },
   {
    "duration": 17,
    "start_time": "2021-11-23T20:11:03.027Z"
   },
   {
    "duration": 184,
    "start_time": "2021-11-23T20:11:03.046Z"
   },
   {
    "duration": 22,
    "start_time": "2021-11-23T20:11:03.231Z"
   },
   {
    "duration": 11,
    "start_time": "2021-11-23T20:11:03.255Z"
   },
   {
    "duration": 1030,
    "start_time": "2021-11-24T07:44:28.194Z"
   },
   {
    "duration": 39,
    "start_time": "2021-11-24T07:44:29.226Z"
   },
   {
    "duration": 17,
    "start_time": "2021-11-24T07:44:29.266Z"
   },
   {
    "duration": 19,
    "start_time": "2021-11-24T07:44:29.285Z"
   },
   {
    "duration": 11,
    "start_time": "2021-11-24T07:44:29.306Z"
   },
   {
    "duration": 49,
    "start_time": "2021-11-24T07:44:29.319Z"
   },
   {
    "duration": 24,
    "start_time": "2021-11-24T07:44:29.370Z"
   },
   {
    "duration": 1052,
    "start_time": "2021-11-24T07:44:29.397Z"
   },
   {
    "duration": 8,
    "start_time": "2021-11-24T07:44:30.450Z"
   },
   {
    "duration": 122,
    "start_time": "2021-11-24T07:44:30.459Z"
   },
   {
    "duration": 8,
    "start_time": "2021-11-24T07:44:30.583Z"
   },
   {
    "duration": 4256,
    "start_time": "2021-11-24T07:44:30.593Z"
   },
   {
    "duration": 10,
    "start_time": "2021-11-24T07:44:34.851Z"
   },
   {
    "duration": 4342,
    "start_time": "2021-11-24T07:44:34.863Z"
   },
   {
    "duration": 8637,
    "start_time": "2021-11-24T07:44:39.207Z"
   },
   {
    "duration": 19,
    "start_time": "2021-11-24T07:44:47.846Z"
   },
   {
    "duration": 5,
    "start_time": "2021-11-24T07:44:47.867Z"
   },
   {
    "duration": 19,
    "start_time": "2021-11-24T07:44:47.873Z"
   },
   {
    "duration": 205,
    "start_time": "2021-11-24T07:44:47.893Z"
   },
   {
    "duration": 348,
    "start_time": "2021-11-24T07:44:48.099Z"
   },
   {
    "duration": 544,
    "start_time": "2021-11-24T07:44:48.449Z"
   },
   {
    "duration": 5,
    "start_time": "2021-11-24T07:44:48.995Z"
   },
   {
    "duration": 239,
    "start_time": "2021-11-24T07:44:49.002Z"
   },
   {
    "duration": 373,
    "start_time": "2021-11-24T07:44:49.243Z"
   },
   {
    "duration": 358,
    "start_time": "2021-11-24T07:44:49.618Z"
   },
   {
    "duration": 406,
    "start_time": "2021-11-24T07:44:49.977Z"
   },
   {
    "duration": 490,
    "start_time": "2021-11-24T07:44:50.385Z"
   },
   {
    "duration": 5,
    "start_time": "2021-11-24T07:44:50.877Z"
   },
   {
    "duration": 423,
    "start_time": "2021-11-24T07:44:50.884Z"
   },
   {
    "duration": 207,
    "start_time": "2021-11-24T07:44:51.309Z"
   },
   {
    "duration": 221,
    "start_time": "2021-11-24T07:44:51.518Z"
   },
   {
    "duration": 232,
    "start_time": "2021-11-24T07:44:51.741Z"
   },
   {
    "duration": 5,
    "start_time": "2021-11-24T07:44:51.975Z"
   },
   {
    "duration": 191,
    "start_time": "2021-11-24T07:44:51.991Z"
   },
   {
    "duration": 15,
    "start_time": "2021-11-24T07:44:52.184Z"
   },
   {
    "duration": 10,
    "start_time": "2021-11-24T07:44:52.200Z"
   },
   {
    "duration": 261,
    "start_time": "2021-11-27T09:27:58.176Z"
   },
   {
    "duration": 972,
    "start_time": "2021-11-27T09:28:09.808Z"
   },
   {
    "duration": 37,
    "start_time": "2021-11-27T09:28:10.782Z"
   },
   {
    "duration": 15,
    "start_time": "2021-11-27T09:28:10.820Z"
   },
   {
    "duration": 13,
    "start_time": "2021-11-27T09:28:10.837Z"
   },
   {
    "duration": 10,
    "start_time": "2021-11-27T09:28:10.851Z"
   },
   {
    "duration": 42,
    "start_time": "2021-11-27T09:28:10.863Z"
   },
   {
    "duration": 3,
    "start_time": "2021-11-27T09:28:10.907Z"
   },
   {
    "duration": 640,
    "start_time": "2021-11-27T09:28:10.913Z"
   },
   {
    "duration": 7,
    "start_time": "2021-11-27T09:28:11.555Z"
   },
   {
    "duration": 112,
    "start_time": "2021-11-27T09:28:11.564Z"
   },
   {
    "duration": 3,
    "start_time": "2021-11-27T09:28:11.678Z"
   },
   {
    "duration": 7,
    "start_time": "2021-11-27T09:28:11.683Z"
   },
   {
    "duration": 13,
    "start_time": "2021-11-27T09:28:11.692Z"
   },
   {
    "duration": 2,
    "start_time": "2021-11-27T09:28:11.706Z"
   },
   {
    "duration": 5,
    "start_time": "2021-11-27T09:28:11.710Z"
   },
   {
    "duration": 19,
    "start_time": "2021-11-27T09:28:11.716Z"
   },
   {
    "duration": 4,
    "start_time": "2021-11-27T09:28:11.736Z"
   },
   {
    "duration": 5,
    "start_time": "2021-11-27T09:28:11.742Z"
   },
   {
    "duration": 248,
    "start_time": "2021-11-27T09:28:11.749Z"
   },
   {
    "duration": 357,
    "start_time": "2021-11-27T09:28:11.998Z"
   },
   {
    "duration": 491,
    "start_time": "2021-11-27T09:28:12.357Z"
   },
   {
    "duration": 4,
    "start_time": "2021-11-27T09:28:12.849Z"
   },
   {
    "duration": 216,
    "start_time": "2021-11-27T09:28:12.854Z"
   },
   {
    "duration": 376,
    "start_time": "2021-11-27T09:28:13.071Z"
   },
   {
    "duration": 311,
    "start_time": "2021-11-27T09:28:13.449Z"
   },
   {
    "duration": 313,
    "start_time": "2021-11-27T09:28:13.763Z"
   },
   {
    "duration": 383,
    "start_time": "2021-11-27T09:28:14.078Z"
   },
   {
    "duration": 5,
    "start_time": "2021-11-27T09:28:14.462Z"
   },
   {
    "duration": 362,
    "start_time": "2021-11-27T09:28:14.469Z"
   },
   {
    "duration": 169,
    "start_time": "2021-11-27T09:28:14.833Z"
   },
   {
    "duration": 200,
    "start_time": "2021-11-27T09:28:15.004Z"
   },
   {
    "duration": 263,
    "start_time": "2021-11-27T09:28:15.205Z"
   },
   {
    "duration": 5,
    "start_time": "2021-11-27T09:28:15.469Z"
   },
   {
    "duration": 485,
    "start_time": "2021-11-27T09:28:15.475Z"
   },
   {
    "duration": -80,
    "start_time": "2021-11-27T09:28:16.042Z"
   },
   {
    "duration": -83,
    "start_time": "2021-11-27T09:28:16.046Z"
   },
   {
    "duration": 320,
    "start_time": "2021-11-27T09:31:09.607Z"
   },
   {
    "duration": 321,
    "start_time": "2021-11-27T09:31:21.383Z"
   },
   {
    "duration": 352,
    "start_time": "2021-11-27T09:32:02.252Z"
   },
   {
    "duration": 297,
    "start_time": "2021-11-27T09:33:17.098Z"
   },
   {
    "duration": 370,
    "start_time": "2021-11-27T09:33:23.438Z"
   },
   {
    "duration": 19,
    "start_time": "2021-11-27T09:35:00.022Z"
   },
   {
    "duration": 255,
    "start_time": "2021-11-27T09:37:13.379Z"
   },
   {
    "duration": 247,
    "start_time": "2021-11-27T09:37:33.454Z"
   },
   {
    "duration": 254,
    "start_time": "2021-11-27T09:37:45.900Z"
   },
   {
    "duration": 261,
    "start_time": "2021-11-27T09:38:13.567Z"
   },
   {
    "duration": 261,
    "start_time": "2021-11-27T09:38:54.597Z"
   },
   {
    "duration": 254,
    "start_time": "2021-11-27T09:38:59.789Z"
   },
   {
    "duration": 20,
    "start_time": "2021-11-27T09:39:05.433Z"
   },
   {
    "duration": 18,
    "start_time": "2021-11-27T09:41:11.804Z"
   },
   {
    "duration": 16,
    "start_time": "2021-11-27T09:41:18.901Z"
   },
   {
    "duration": 248,
    "start_time": "2021-11-27T09:41:31.890Z"
   },
   {
    "duration": 17,
    "start_time": "2021-11-27T09:41:36.020Z"
   },
   {
    "duration": 19,
    "start_time": "2021-11-27T09:42:28.296Z"
   },
   {
    "duration": 286,
    "start_time": "2021-11-27T09:43:40.219Z"
   },
   {
    "duration": 19,
    "start_time": "2021-11-27T09:43:46.768Z"
   },
   {
    "duration": 186,
    "start_time": "2021-11-27T09:48:38.191Z"
   },
   {
    "duration": 272,
    "start_time": "2021-11-27T09:49:04.203Z"
   },
   {
    "duration": 983,
    "start_time": "2021-11-27T09:56:28.820Z"
   },
   {
    "duration": 36,
    "start_time": "2021-11-27T09:56:29.804Z"
   },
   {
    "duration": 15,
    "start_time": "2021-11-27T09:56:29.841Z"
   },
   {
    "duration": 13,
    "start_time": "2021-11-27T09:56:29.858Z"
   },
   {
    "duration": 23,
    "start_time": "2021-11-27T09:56:29.872Z"
   },
   {
    "duration": 53,
    "start_time": "2021-11-27T09:56:29.896Z"
   },
   {
    "duration": 4,
    "start_time": "2021-11-27T09:56:29.950Z"
   },
   {
    "duration": 440,
    "start_time": "2021-11-27T09:56:29.956Z"
   },
   {
    "duration": 8,
    "start_time": "2021-11-27T09:56:30.398Z"
   },
   {
    "duration": 124,
    "start_time": "2021-11-27T09:56:30.408Z"
   },
   {
    "duration": 4,
    "start_time": "2021-11-27T09:56:30.534Z"
   },
   {
    "duration": 13,
    "start_time": "2021-11-27T09:56:30.539Z"
   },
   {
    "duration": 40,
    "start_time": "2021-11-27T09:56:30.553Z"
   },
   {
    "duration": 13,
    "start_time": "2021-11-27T09:56:30.594Z"
   },
   {
    "duration": 25,
    "start_time": "2021-11-27T09:56:30.608Z"
   },
   {
    "duration": 35,
    "start_time": "2021-11-27T09:56:30.635Z"
   },
   {
    "duration": 14,
    "start_time": "2021-11-27T09:56:30.672Z"
   },
   {
    "duration": 21,
    "start_time": "2021-11-27T09:56:30.688Z"
   },
   {
    "duration": 329,
    "start_time": "2021-11-27T09:56:30.710Z"
   },
   {
    "duration": 304,
    "start_time": "2021-11-27T09:56:31.041Z"
   },
   {
    "duration": 486,
    "start_time": "2021-11-27T09:56:31.346Z"
   },
   {
    "duration": 4,
    "start_time": "2021-11-27T09:56:31.833Z"
   },
   {
    "duration": 222,
    "start_time": "2021-11-27T09:56:31.840Z"
   },
   {
    "duration": 396,
    "start_time": "2021-11-27T09:56:32.064Z"
   },
   {
    "duration": 313,
    "start_time": "2021-11-27T09:56:32.461Z"
   },
   {
    "duration": 301,
    "start_time": "2021-11-27T09:56:32.775Z"
   },
   {
    "duration": 384,
    "start_time": "2021-11-27T09:56:33.077Z"
   },
   {
    "duration": 4,
    "start_time": "2021-11-27T09:56:33.463Z"
   },
   {
    "duration": 355,
    "start_time": "2021-11-27T09:56:33.468Z"
   },
   {
    "duration": 175,
    "start_time": "2021-11-27T09:56:33.824Z"
   },
   {
    "duration": 18,
    "start_time": "2021-11-27T09:56:34.001Z"
   },
   {
    "duration": 274,
    "start_time": "2021-11-27T09:56:34.020Z"
   },
   {
    "duration": 225,
    "start_time": "2021-11-27T09:56:34.296Z"
   },
   {
    "duration": 6,
    "start_time": "2021-11-27T09:56:34.523Z"
   },
   {
    "duration": 245,
    "start_time": "2021-11-27T09:56:34.531Z"
   },
   {
    "duration": 19,
    "start_time": "2021-11-27T09:56:34.778Z"
   },
   {
    "duration": 13,
    "start_time": "2021-11-27T09:56:34.799Z"
   },
   {
    "duration": 1558,
    "start_time": "2021-11-27T17:20:40.077Z"
   },
   {
    "duration": 46,
    "start_time": "2021-11-27T17:20:41.638Z"
   },
   {
    "duration": 26,
    "start_time": "2021-11-27T17:20:41.686Z"
   },
   {
    "duration": 22,
    "start_time": "2021-11-27T17:20:41.715Z"
   },
   {
    "duration": 16,
    "start_time": "2021-11-27T17:20:41.739Z"
   },
   {
    "duration": 97,
    "start_time": "2021-11-27T17:20:41.757Z"
   },
   {
    "duration": 26,
    "start_time": "2021-11-27T17:20:41.856Z"
   },
   {
    "duration": 99418,
    "start_time": "2021-11-27T17:20:41.887Z"
   },
   {
    "duration": 12,
    "start_time": "2021-11-27T17:22:21.308Z"
   },
   {
    "duration": 374,
    "start_time": "2021-11-27T17:22:21.322Z"
   },
   {
    "duration": 4,
    "start_time": "2021-11-27T17:22:21.699Z"
   },
   {
    "duration": 14,
    "start_time": "2021-11-27T17:22:21.705Z"
   },
   {
    "duration": 23,
    "start_time": "2021-11-27T17:22:21.722Z"
   },
   {
    "duration": 8,
    "start_time": "2021-11-27T17:22:21.748Z"
   },
   {
    "duration": 15,
    "start_time": "2021-11-27T17:22:21.758Z"
   },
   {
    "duration": 37,
    "start_time": "2021-11-27T17:22:21.775Z"
   },
   {
    "duration": 10,
    "start_time": "2021-11-27T17:22:21.815Z"
   },
   {
    "duration": 16,
    "start_time": "2021-11-27T17:22:21.827Z"
   },
   {
    "duration": 695,
    "start_time": "2021-11-27T17:22:21.846Z"
   },
   {
    "duration": 552,
    "start_time": "2021-11-27T17:22:22.544Z"
   },
   {
    "duration": 988,
    "start_time": "2021-11-27T17:22:23.099Z"
   },
   {
    "duration": 6,
    "start_time": "2021-11-27T17:22:24.089Z"
   },
   {
    "duration": 395,
    "start_time": "2021-11-27T17:22:24.100Z"
   },
   {
    "duration": 668,
    "start_time": "2021-11-27T17:22:24.498Z"
   },
   {
    "duration": 580,
    "start_time": "2021-11-27T17:22:25.169Z"
   },
   {
    "duration": 553,
    "start_time": "2021-11-27T17:22:25.751Z"
   },
   {
    "duration": 777,
    "start_time": "2021-11-27T17:22:26.307Z"
   },
   {
    "duration": 7,
    "start_time": "2021-11-27T17:22:27.087Z"
   },
   {
    "duration": 988,
    "start_time": "2021-11-27T17:22:27.097Z"
   },
   {
    "duration": 463,
    "start_time": "2021-11-27T17:22:28.088Z"
   },
   {
    "duration": 57,
    "start_time": "2021-11-27T17:22:28.555Z"
   },
   {
    "duration": 416,
    "start_time": "2021-11-27T17:22:28.615Z"
   },
   {
    "duration": 364,
    "start_time": "2021-11-27T17:22:29.033Z"
   },
   {
    "duration": 7,
    "start_time": "2021-11-27T17:22:29.400Z"
   },
   {
    "duration": 354,
    "start_time": "2021-11-27T17:22:29.409Z"
   },
   {
    "duration": 28,
    "start_time": "2021-11-27T17:22:29.766Z"
   },
   {
    "duration": 16,
    "start_time": "2021-11-27T17:22:29.796Z"
   }
  ],
  "kernelspec": {
   "display_name": "Python 3",
   "language": "python",
   "name": "python3"
  },
  "language_info": {
   "codemirror_mode": {
    "name": "ipython",
    "version": 3
   },
   "file_extension": ".py",
   "mimetype": "text/x-python",
   "name": "python",
   "nbconvert_exporter": "python",
   "pygments_lexer": "ipython3",
   "version": "3.8.8"
  },
  "toc": {
   "base_numbering": 1,
   "nav_menu": {},
   "number_sections": true,
   "sideBar": true,
   "skip_h1_title": true,
   "title_cell": "Table of Contents",
   "title_sidebar": "Contents",
   "toc_cell": false,
   "toc_position": {},
   "toc_section_display": true,
   "toc_window_display": true
  }
 },
 "nbformat": 4,
 "nbformat_minor": 2
}
